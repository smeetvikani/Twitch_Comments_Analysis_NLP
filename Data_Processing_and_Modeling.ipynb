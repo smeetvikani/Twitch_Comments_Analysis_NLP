{
 "cells": [
  {
   "cell_type": "markdown",
   "metadata": {},
   "source": [
    "### Import Packages"
   ]
  },
  {
   "cell_type": "code",
   "execution_count": 1,
   "metadata": {
    "ExecuteTime": {
     "end_time": "2018-06-06T02:18:59.891268Z",
     "start_time": "2018-06-06T02:18:56.924094Z"
    }
   },
   "outputs": [
    {
     "name": "stderr",
     "output_type": "stream",
     "text": [
      "/Users/honeybadger4/anaconda3/lib/python3.6/site-packages/statsmodels/compat/pandas.py:56: FutureWarning: The pandas.core.datetools module is deprecated and will be removed in a future version. Please use the pandas.tseries module instead.\n",
      "  from pandas.core import datetools\n"
     ]
    }
   ],
   "source": [
    "import pandas as pd\n",
    "import nltk\n",
    "import re\n",
    "import numpy as np\n",
    "import matplotlib.pyplot as plt\n",
    "import seaborn as sns\n",
    "import datetime\n",
    "from sklearn.feature_extraction.text import CountVectorizer\n",
    "from sklearn.feature_extraction.text import TfidfVectorizer\n",
    "from textblob import TextBlob\n",
    "import pickle\n",
    "import nltk\n",
    "from sklearn.feature_extraction import text \n",
    "import statsmodels.api as smf\n",
    "from patsy import dmatrices,dmatrix\n",
    "import scipy\n",
    "\n",
    "%matplotlib inline\n",
    "pd.set_option('display.max_columns', 70)"
   ]
  },
  {
   "cell_type": "markdown",
   "metadata": {},
   "source": [
    "### Run the scraper to download comments from twitch videos. \n",
    "-input Video ID and output folder. "
   ]
  },
  {
   "cell_type": "code",
   "execution_count": 2,
   "metadata": {
    "ExecuteTime": {
     "end_time": "2018-06-06T02:18:59.896858Z",
     "start_time": "2018-06-06T02:18:59.893777Z"
    },
    "collapsed": true
   },
   "outputs": [],
   "source": [
    "# !python Twitch-Chat-Downloader/app.py -v 263875450 --format irc --output ~/Downloads/streams"
   ]
  },
  {
   "cell_type": "markdown",
   "metadata": {},
   "source": [
    "### Import Scraped Data"
   ]
  },
  {
   "cell_type": "code",
   "execution_count": 3,
   "metadata": {
    "ExecuteTime": {
     "end_time": "2018-06-06T02:19:00.197884Z",
     "start_time": "2018-06-06T02:18:59.900260Z"
    },
    "collapsed": true,
    "scrolled": true
   },
   "outputs": [],
   "source": [
    "videofile='video_logs/v263708483.log'\n",
    "data2=pd.read_fwf(videofile)\n",
    "data2.tail()\n",
    "data=(data2.iloc[:,:2])\n",
    "data.columns=[\"time\",\"comment\"]"
   ]
  },
  {
   "cell_type": "markdown",
   "metadata": {},
   "source": [
    "### Extract video number from the file name"
   ]
  },
  {
   "cell_type": "code",
   "execution_count": 4,
   "metadata": {
    "ExecuteTime": {
     "end_time": "2018-06-06T02:19:00.208922Z",
     "start_time": "2018-06-06T02:19:00.203263Z"
    },
    "collapsed": true
   },
   "outputs": [],
   "source": [
    "video_num=int(re.findall(r'\\d+',videofile)[0])\n"
   ]
  },
  {
   "cell_type": "markdown",
   "metadata": {},
   "source": [
    "### Predefine Functions that will be later referenced in the notebook."
   ]
  },
  {
   "cell_type": "code",
   "execution_count": 5,
   "metadata": {
    "ExecuteTime": {
     "end_time": "2018-06-06T02:19:00.388840Z",
     "start_time": "2018-06-06T02:19:00.211169Z"
    },
    "collapsed": true
   },
   "outputs": [],
   "source": [
    "def seconds_to_time(seconds):\n",
    "    \"\"\" Set seconds to actul time used for plotting axis\"\"\"\n",
    "    hour_play=seconds//3600\n",
    "    minute_play=(seconds%3600) // 60\n",
    "    second_play=(seconds%3600)%60 \n",
    "    return str(hour_play)+\":\"+str(minute_play)+\":\"+str(second_play)\n",
    "\n",
    "\n",
    "def plot_topic_matrix(model,vectorizer_feature):\n",
    "    \"\"\" plots each topic with top words and percent% \"\"\"\n",
    "    disp_topics = pd.DataFrame()\n",
    "    prob_comp = model.components_ / model.components_.sum(axis=1)[:, np.newaxis]\n",
    "    for topic_idx, topic in enumerate(prob_comp):\n",
    "        top_indices = topic.argsort()[:-30 - 1:-1]\n",
    "        top_words = [f\"{vectorizer_feature[i]} {topic[i]:.1%}\" for i in top_indices]\n",
    "        disp_topics[f\"Topic {topic_idx}\"] = top_words\n",
    "    return disp_topics\n",
    "\n",
    "def print_top_words(model, feature_names, n_top_words):\n",
    "    \"\"\"  use  plot_topic_matrix \"\"\"\n",
    "    for topic_idx, topic in enumerate(model.components_):\n",
    "        print(\"Topic #%d:\" % topic_idx)\n",
    "        print(\" \".join([feature_names[i]\n",
    "                        for i in topic.argsort()[:-n_top_words - 1:-1]]))\n",
    "    print()\n",
    "\n",
    "    \n",
    "def display_topics(model, feature_names, no_top_words):\n",
    "    \"\"\" use plot_topic_matrix \"\"\"\n",
    "    for topic_idx, topic in enumerate(model.components_):\n",
    "        print (\" Topic %d:\" % (topic_idx))\n",
    "        print (\" \".join([feature_names[i]\n",
    "                        for i in topic.argsort()[:-no_top_words - 1:-1]]))\n",
    "\n",
    "from wordcloud import WordCloud, STOPWORDS\n",
    "import matplotlib.pyplot as plt\n",
    "def wordcloud_str(string2):\n",
    "    \"\"\" plot a wordcloud just need a string input\"\"\"\n",
    "    wordcloud = WordCloud(\n",
    "                              stopwords=STOPWORDS,\n",
    "                              background_color='white',\n",
    "                              width=2400,\n",
    "                              height=1000\n",
    "                             ).generate(string2)\n",
    "\n",
    "\n",
    "    plt.imshow(wordcloud)\n",
    "    plt.axis('off')\n",
    "    plt.show()\n",
    "    \n",
    "    \n",
    "def analyze_coef(df_with_cols,model,num_points):\n",
    "    feat = df_with_cols.columns\n",
    "    coef = model.coef_.flatten()\n",
    "    sort_i = np.argsort(-np.abs(coef))\n",
    "\n",
    "    plt.figure(figsize=(10,5))\n",
    "    n_plot = num_points\n",
    "    ind = np.arange(n_plot)\n",
    "\n",
    "    plt.scatter(ind, coef[sort_i][:n_plot])\n",
    "    plt.xticks(ind, feat[sort_i][:n_plot], rotation=90);\n",
    "    plt.title(\"Top coefficients for CV-optimized lasso model\")\n",
    "    plt.ylabel(\"coefficient\");"
   ]
  },
  {
   "cell_type": "markdown",
   "metadata": {},
   "source": [
    "### Convert col to delta time  (HMS conversion) "
   ]
  },
  {
   "cell_type": "code",
   "execution_count": 6,
   "metadata": {
    "ExecuteTime": {
     "end_time": "2018-06-06T02:19:00.512855Z",
     "start_time": "2018-06-06T02:19:00.391861Z"
    },
    "collapsed": true
   },
   "outputs": [],
   "source": [
    "new_time=data.time.str.replace(']'  ,\"\")\n",
    "new_time2=new_time.str.replace('[' ,\"\")\n",
    "new_time_col=pd.to_timedelta(new_time2)"
   ]
  },
  {
   "cell_type": "markdown",
   "metadata": {},
   "source": [
    "### Add Seconds Count"
   ]
  },
  {
   "cell_type": "code",
   "execution_count": 7,
   "metadata": {
    "ExecuteTime": {
     "end_time": "2018-06-06T02:19:00.941359Z",
     "start_time": "2018-06-06T02:19:00.516777Z"
    },
    "collapsed": true
   },
   "outputs": [],
   "source": [
    "working_df=pd.concat([data,new_time_col],axis=1)\n",
    "working_df_v2=working_df.iloc[:,1:]\n",
    "working_df_v2['seconds']=working_df_v2.time.apply(lambda row:  (row.total_seconds()))\n",
    "working_df_v3=(working_df_v2)"
   ]
  },
  {
   "cell_type": "markdown",
   "metadata": {},
   "source": [
    "### Create Groups of Seconds and cheer per second"
   ]
  },
  {
   "cell_type": "code",
   "execution_count": 8,
   "metadata": {
    "ExecuteTime": {
     "end_time": "2018-06-06T02:19:00.965971Z",
     "start_time": "2018-06-06T02:19:00.943786Z"
    }
   },
   "outputs": [
    {
     "data": {
      "text/plain": [
       "17541"
      ]
     },
     "execution_count": 8,
     "metadata": {},
     "output_type": "execute_result"
    }
   ],
   "source": [
    "group_seconds=pd.DataFrame(working_df_v3.groupby(['seconds']).agg(['count']))\n",
    "group_seconds_v2=group_seconds.reset_index()\n",
    "group_seconds_v3=group_seconds_v2.iloc[:,:2]\n",
    "group_seconds_v3.columns=['seconds','counts']\n",
    "len(group_seconds_v3)"
   ]
  },
  {
   "cell_type": "markdown",
   "metadata": {},
   "source": [
    "### Additional Data Cleaning: Split User and comments"
   ]
  },
  {
   "cell_type": "code",
   "execution_count": 9,
   "metadata": {
    "ExecuteTime": {
     "end_time": "2018-06-06T02:19:02.083462Z",
     "start_time": "2018-06-06T02:19:00.967971Z"
    }
   },
   "outputs": [
    {
     "name": "stdout",
     "output_type": "stream",
     "text": [
      "47864\n"
     ]
    }
   ],
   "source": [
    "df4 = pd.DataFrame(working_df_v3.comment.str.split('>',1).tolist(),\n",
    "                                   columns = ['user','comment'])\n",
    "df5=working_df_v3.iloc[:,1:]\n",
    "df6=pd.concat([df4,df5], axis=1)\n",
    "df7 = pd.DataFrame(df6.groupby(['time'])['comment'].apply(list)).reset_index()\n",
    "df8=df7.set_index('time')\n",
    "df8.head()\n",
    "print(len(df6))"
   ]
  },
  {
   "cell_type": "markdown",
   "metadata": {},
   "source": [
    "### Group Video Data by 30 sec interval, aggregate and bin comments. \n",
    "#### -Last part of DataFrame manipulation "
   ]
  },
  {
   "cell_type": "code",
   "execution_count": 10,
   "metadata": {
    "ExecuteTime": {
     "end_time": "2018-06-06T02:19:02.296309Z",
     "start_time": "2018-06-06T02:19:02.085814Z"
    }
   },
   "outputs": [
    {
     "name": "stderr",
     "output_type": "stream",
     "text": [
      "/Users/honeybadger4/anaconda3/lib/python3.6/site-packages/ipykernel_launcher.py:1: FutureWarning: how in .resample() is deprecated\n",
      "the new syntax is .resample(...)..apply(<func>)\n",
      "  \"\"\"Entry point for launching an IPython kernel.\n"
     ]
    }
   ],
   "source": [
    "df9=df8.resample('30s', how=sum)\n",
    "df9['str_comments']=df9.comment.apply(lambda row:  str(row))\n",
    "df10= df9.drop([\"comment\"], axis=1)\n",
    "df11=pd.DataFrame(df10.str_comments.str.lower())\n",
    "df12=pd.DataFrame(df11.str_comments.str.replace(r'ninja', ''))\n",
    "df12.str_comments.replace(r'creep','', regex=True,inplace=True )\n",
    "df12.str_comments.replace(r'crinja','', regex=True,inplace=True )\n",
    "\n",
    "df12.str_comments.replace(r'[^a-zA-Z\\s]','', regex=True,inplace=True )\n"
   ]
  },
  {
   "cell_type": "markdown",
   "metadata": {},
   "source": [
    "### Part Two : Data Analysis "
   ]
  },
  {
   "cell_type": "markdown",
   "metadata": {},
   "source": [
    "### Visualize the Bins"
   ]
  },
  {
   "cell_type": "code",
   "execution_count": 11,
   "metadata": {
    "ExecuteTime": {
     "end_time": "2018-06-06T02:19:02.303857Z",
     "start_time": "2018-06-06T02:19:02.298491Z"
    }
   },
   "outputs": [
    {
     "data": {
      "text/plain": [
       "' ayy  yooooo  hi    viewers lol  first  hey  thirst thirst cash cash thirst cash            hi  yoooooooo  fortone  im here bois  pon  hey  and now i wait for  years  pon  hey  you the man  hiiiio  cuz u a real ass woman an i like it  k  we out here  aww aww  followage  yaaaa  if you have bttv type followed  you can get the bttv add on here httpsgooglubbaaw  hey   bla bla bla  hey  whats up  pon pon pon pon pon pon pon pon pon pon pon pon pon pon pon pon pon pon pon pon pon pon pon pon pon pon pon  hey  uhi  im lit  we out heree boiis  whatssss uppppppppp dawgggggggg  ayye  pon  hi  scaredycat scaredycat scaredycat       popcorn  s cash s popcorn rekt prime prime hs popcorn rekt popcorn s s s s troll cash cash cash  sad  hours  we out here  ayy    muooo  hey pon  litty  aye  before the ponpon n shit    whats up  pon flipthis flipthis flipthis flipthis flipthis  pon pon pon pon pon pon pon pon pon pon pon pon pon pon pon pon pon pon pon pon                 h h h h h h h h h h h h h h h h h h h h h h h h h  lets go  sup guys and gals    ninga  pon pon pon pon pon pon pon pon pon pon pon pon pon pon pon pon pon pon pon pon pon        hi  we here bois  daddy  hi  we back again  what song is this  ayyyeee  hi  u guys wasnt first people been here since he stopped going like'"
      ]
     },
     "execution_count": 11,
     "metadata": {},
     "output_type": "execute_result"
    }
   ],
   "source": [
    "df12.str_comments[2]"
   ]
  },
  {
   "cell_type": "markdown",
   "metadata": {},
   "source": [
    "#### Time to seconds function: Manual Video Validation"
   ]
  },
  {
   "cell_type": "code",
   "execution_count": 12,
   "metadata": {
    "ExecuteTime": {
     "end_time": "2018-06-06T02:19:02.311822Z",
     "start_time": "2018-06-06T02:19:02.306294Z"
    }
   },
   "outputs": [
    {
     "data": {
      "text/plain": [
       "4472"
      ]
     },
     "execution_count": 12,
     "metadata": {},
     "output_type": "execute_result"
    }
   ],
   "source": [
    "time = \"01:14:32\"\n",
    "sum(x * int(t) for x, t in zip([3600, 60, 1], time.split(\":\"))) "
   ]
  },
  {
   "cell_type": "markdown",
   "metadata": {
    "ExecuteTime": {
     "end_time": "2018-05-24T00:46:15.429215Z",
     "start_time": "2018-05-24T00:46:15.423243Z"
    }
   },
   "source": [
    "### Insert the number of seconds that the user would like to start the video play at: \n",
    " \n"
   ]
  },
  {
   "cell_type": "code",
   "execution_count": 13,
   "metadata": {
    "ExecuteTime": {
     "end_time": "2018-06-06T02:19:02.317786Z",
     "start_time": "2018-06-06T02:19:02.314139Z"
    },
    "collapsed": true
   },
   "outputs": [],
   "source": [
    "### Convert seconds to time format for the URL\n",
    "## fail_1 manually declared variable by the user. Takes input in seconds, used to start a video at a specific moment. \n",
    "fail_1=10\n",
    "fail_2= fail_1*30"
   ]
  },
  {
   "cell_type": "code",
   "execution_count": 14,
   "metadata": {
    "ExecuteTime": {
     "end_time": "2018-06-06T02:19:02.328692Z",
     "start_time": "2018-06-06T02:19:02.319882Z"
    },
    "collapsed": true
   },
   "outputs": [],
   "source": [
    "time_play=(datetime.timedelta(seconds=fail_2))\n",
    "hour_play=fail_2//3600\n",
    "minute_play=(fail_2%3600) // 60\n",
    "second_play=(fail_2%3600)%60 \n",
    "\n",
    "import IPython\n",
    "url = 'some url....'\n",
    "iframe = f'''\n",
    "\n",
    "<iframe\n",
    "    src=\"http://player.twitch.tv/?video=v{str(video_num)}&t={hour_play}h{minute_play}m{second_play}s\"\n",
    "    height=\"400\"\n",
    "    width=\"700\"\n",
    "    frameborder=\"0\"\n",
    "    scrolling=\"no\"\n",
    "    allowfullscreen=\"true\" >\n",
    "</iframe>\n",
    "'''\n",
    "\n",
    "# Comment out if you would not like the video to play\n",
    "# IPython.display.HTML(iframe)"
   ]
  },
  {
   "cell_type": "markdown",
   "metadata": {},
   "source": [
    "### Text Blob Sentiment Analysis:\n",
    "ex  TextBlob(\"it's so awesome.\").sentiment\n",
    "    - Positive Sentiment"
   ]
  },
  {
   "cell_type": "markdown",
   "metadata": {},
   "source": [
    "### Agg Data for Sentiment Analysis: "
   ]
  },
  {
   "cell_type": "code",
   "execution_count": 15,
   "metadata": {
    "ExecuteTime": {
     "end_time": "2018-06-06T02:19:02.347909Z",
     "start_time": "2018-06-06T02:19:02.331262Z"
    }
   },
   "outputs": [
    {
     "name": "stderr",
     "output_type": "stream",
     "text": [
      "/Users/honeybadger4/anaconda3/lib/python3.6/site-packages/ipykernel_launcher.py:4: FutureWarning: how in .resample() is deprecated\n",
      "the new syntax is .resample(...)..apply(<func>)\n",
      "  after removing the cwd from sys.path.\n"
     ]
    }
   ],
   "source": [
    "plot_video_comments=working_df_v3.copy()\n",
    "plot_video_comments['number']=1\n",
    "plot_video_comments_v2=plot_video_comments.set_index('time')\n",
    "plot_video_comments_v3=plot_video_comments_v2.resample('30s', how=sum)\n",
    "plot_video_comments_v3['interval']=[i for i in range(len(plot_video_comments_v3))]"
   ]
  },
  {
   "cell_type": "markdown",
   "metadata": {},
   "source": [
    "### Plot Sentiment over the Video Timeline, Smooth out the borders. "
   ]
  },
  {
   "cell_type": "code",
   "execution_count": 16,
   "metadata": {
    "ExecuteTime": {
     "end_time": "2018-06-06T02:19:04.578712Z",
     "start_time": "2018-06-06T02:19:02.352878Z"
    }
   },
   "outputs": [
    {
     "data": {
      "text/plain": [
       "[<matplotlib.lines.Line2D at 0x1c14863a58>]"
      ]
     },
     "execution_count": 16,
     "metadata": {},
     "output_type": "execute_result"
    },
    {
     "data": {
      "image/png": "[encoded data removed]",
      "text/plain": [
       "<matplotlib.figure.Figure at 0x1c148631d0>"
      ]
     },
     "metadata": {},
     "output_type": "display_data"
    }
   ],
   "source": [
    "# Use to plot graph axis as time hms\n",
    "plot_index=[str(x)[7:] for x in df10.index]\n",
    "\n",
    "polarity_list=[]\n",
    "for i in range(len(df10)):\n",
    "#     print(i)\n",
    "#     print(TextBlob(df10.str_comments[i]).sentiment)\n",
    "    extract_blob=(TextBlob(df12.str_comments[i]).sentiment)\n",
    "    polarity_list.append(extract_blob.polarity)\n",
    "\n",
    "\n",
    "plt.figure(figsize=(30,8))\n",
    "plt.plot(df12.index[0::20],polarity_list[0::20],'ro-')\n",
    "\n",
    "plt.plot(df12.index,polarity_list,'bo-',markevery=300, alpha=0.25)"
   ]
  },
  {
   "cell_type": "markdown",
   "metadata": {},
   "source": [
    "### NMF TFIDF\n"
   ]
  },
  {
   "cell_type": "code",
   "execution_count": 17,
   "metadata": {
    "ExecuteTime": {
     "end_time": "2018-06-06T02:19:04.586809Z",
     "start_time": "2018-06-06T02:19:04.580734Z"
    },
    "collapsed": true
   },
   "outputs": [],
   "source": [
    "# Below Script is used to create a vectorizer model. But the vectorizer is already created so we are going to import using pickle. \n",
    "\n",
    "# tfidf_vectorizer = TfidfVectorizer(min_df=.1, max_df=.9, stop_words='english', token_pattern=\"\\\\b[a-z][a-z]+\\\\b\")\n",
    "# tfidf_matrix = tfidf_vectorizer.fit_transform(df12.str_comments)\n",
    "\n",
    "# Export the model once created. \n",
    "\n",
    "# import pickle \n",
    "# with open('vect.pkl', 'wb') as file:\n",
    "#     pickle.dump(tfidf_vectorizer,file)"
   ]
  },
  {
   "cell_type": "markdown",
   "metadata": {},
   "source": [
    "### Create a Sparse Matrix for the documents: \n",
    "##### Use the vectorizer to transform the documents into sparse matrix"
   ]
  },
  {
   "cell_type": "code",
   "execution_count": 18,
   "metadata": {
    "ExecuteTime": {
     "end_time": "2018-06-06T02:19:04.806250Z",
     "start_time": "2018-06-06T02:19:04.590452Z"
    }
   },
   "outputs": [
    {
     "data": {
      "text/plain": [
       "['adore', 'aim', 'amazing', 'available']"
      ]
     },
     "execution_count": 18,
     "metadata": {},
     "output_type": "execute_result"
    }
   ],
   "source": [
    "import pickle\n",
    "with open(\"pickle_files/vect.pkl\", 'rb') as picklefile:\n",
    "    tfidf_vectorizer = pickle.load(picklefile)\n",
    "\n",
    "#Transfom is needed is used when loading model. Fit_Transform for creating models.\n",
    "tfidf_matrix = tfidf_vectorizer.transform(df12.str_comments)\n",
    "tfidf_feature_names = tfidf_vectorizer.get_feature_names()\n",
    "\n",
    "#Visualize top 4 features\n",
    "tfidf_feature_names[1:5]"
   ]
  },
  {
   "cell_type": "markdown",
   "metadata": {},
   "source": [
    "##### Visualize TFIDF Sprase Matrix: Optional"
   ]
  },
  {
   "cell_type": "code",
   "execution_count": 19,
   "metadata": {
    "ExecuteTime": {
     "end_time": "2018-06-06T02:19:04.972712Z",
     "start_time": "2018-06-06T02:19:04.808441Z"
    },
    "scrolled": false
   },
   "outputs": [
    {
     "name": "stdout",
     "output_type": "stream",
     "text": [
      "(816, 149)\n"
     ]
    },
    {
     "data": {
      "text/html": [
       "<div>\n",
       "<style>\n",
       "    .dataframe thead tr:only-child th {\n",
       "        text-align: right;\n",
       "    }\n",
       "\n",
       "    .dataframe thead th {\n",
       "        text-align: left;\n",
       "    }\n",
       "\n",
       "    .dataframe tbody tr th {\n",
       "        vertical-align: top;\n",
       "    }\n",
       "</style>\n",
       "<table border=\"1\" class=\"dataframe\">\n",
       "  <thead>\n",
       "    <tr style=\"text-align: right;\">\n",
       "      <th></th>\n",
       "      <th>0</th>\n",
       "      <th>1</th>\n",
       "      <th>2</th>\n",
       "      <th>3</th>\n",
       "      <th>4</th>\n",
       "      <th>5</th>\n",
       "      <th>6</th>\n",
       "      <th>7</th>\n",
       "      <th>8</th>\n",
       "      <th>9</th>\n",
       "      <th>10</th>\n",
       "      <th>11</th>\n",
       "      <th>12</th>\n",
       "      <th>13</th>\n",
       "      <th>14</th>\n",
       "      <th>15</th>\n",
       "      <th>16</th>\n",
       "      <th>17</th>\n",
       "      <th>18</th>\n",
       "      <th>19</th>\n",
       "      <th>20</th>\n",
       "      <th>21</th>\n",
       "      <th>22</th>\n",
       "      <th>23</th>\n",
       "      <th>24</th>\n",
       "      <th>25</th>\n",
       "      <th>26</th>\n",
       "      <th>27</th>\n",
       "      <th>28</th>\n",
       "      <th>29</th>\n",
       "      <th>30</th>\n",
       "      <th>31</th>\n",
       "      <th>32</th>\n",
       "      <th>33</th>\n",
       "      <th>34</th>\n",
       "      <th>...</th>\n",
       "      <th>114</th>\n",
       "      <th>115</th>\n",
       "      <th>116</th>\n",
       "      <th>117</th>\n",
       "      <th>118</th>\n",
       "      <th>119</th>\n",
       "      <th>120</th>\n",
       "      <th>121</th>\n",
       "      <th>122</th>\n",
       "      <th>123</th>\n",
       "      <th>124</th>\n",
       "      <th>125</th>\n",
       "      <th>126</th>\n",
       "      <th>127</th>\n",
       "      <th>128</th>\n",
       "      <th>129</th>\n",
       "      <th>130</th>\n",
       "      <th>131</th>\n",
       "      <th>132</th>\n",
       "      <th>133</th>\n",
       "      <th>134</th>\n",
       "      <th>135</th>\n",
       "      <th>136</th>\n",
       "      <th>137</th>\n",
       "      <th>138</th>\n",
       "      <th>139</th>\n",
       "      <th>140</th>\n",
       "      <th>141</th>\n",
       "      <th>142</th>\n",
       "      <th>143</th>\n",
       "      <th>144</th>\n",
       "      <th>145</th>\n",
       "      <th>146</th>\n",
       "      <th>147</th>\n",
       "      <th>148</th>\n",
       "    </tr>\n",
       "  </thead>\n",
       "  <tbody>\n",
       "    <tr>\n",
       "      <th>0</th>\n",
       "      <td>0.000000</td>\n",
       "      <td>0.044573</td>\n",
       "      <td>0.000000</td>\n",
       "      <td>0.040061</td>\n",
       "      <td>0.000000</td>\n",
       "      <td>0.000000</td>\n",
       "      <td>0.000000</td>\n",
       "      <td>0.0</td>\n",
       "      <td>0.000000</td>\n",
       "      <td>0.156211</td>\n",
       "      <td>0.739310</td>\n",
       "      <td>0.000000</td>\n",
       "      <td>0.000000</td>\n",
       "      <td>0.000000</td>\n",
       "      <td>0.000000</td>\n",
       "      <td>0.0</td>\n",
       "      <td>0.057193</td>\n",
       "      <td>0.0</td>\n",
       "      <td>0.043830</td>\n",
       "      <td>0.000000</td>\n",
       "      <td>0.0</td>\n",
       "      <td>0.071003</td>\n",
       "      <td>0.000000</td>\n",
       "      <td>0.0</td>\n",
       "      <td>0.000000</td>\n",
       "      <td>0.000000</td>\n",
       "      <td>0.000000</td>\n",
       "      <td>0.0</td>\n",
       "      <td>0.000000</td>\n",
       "      <td>0.000000</td>\n",
       "      <td>0.000000</td>\n",
       "      <td>0.000000</td>\n",
       "      <td>0.000000</td>\n",
       "      <td>0.000000</td>\n",
       "      <td>0.000000</td>\n",
       "      <td>...</td>\n",
       "      <td>0.041766</td>\n",
       "      <td>0.000000</td>\n",
       "      <td>0.000000</td>\n",
       "      <td>0.000000</td>\n",
       "      <td>0.000000</td>\n",
       "      <td>0.103627</td>\n",
       "      <td>0.0</td>\n",
       "      <td>0.058571</td>\n",
       "      <td>0.000000</td>\n",
       "      <td>0.0</td>\n",
       "      <td>0.0</td>\n",
       "      <td>0.0</td>\n",
       "      <td>0.000000</td>\n",
       "      <td>0.000000</td>\n",
       "      <td>0.135160</td>\n",
       "      <td>0.038231</td>\n",
       "      <td>0.000000</td>\n",
       "      <td>0.000000</td>\n",
       "      <td>0.000000</td>\n",
       "      <td>0.000000</td>\n",
       "      <td>0.0</td>\n",
       "      <td>0.000000</td>\n",
       "      <td>0.0</td>\n",
       "      <td>0.000000</td>\n",
       "      <td>0.052979</td>\n",
       "      <td>0.0</td>\n",
       "      <td>0.000000</td>\n",
       "      <td>0.00000</td>\n",
       "      <td>0.000000</td>\n",
       "      <td>0.0</td>\n",
       "      <td>0.000000</td>\n",
       "      <td>0.000000</td>\n",
       "      <td>0.0</td>\n",
       "      <td>0.108128</td>\n",
       "      <td>0.0</td>\n",
       "    </tr>\n",
       "    <tr>\n",
       "      <th>1</th>\n",
       "      <td>0.121015</td>\n",
       "      <td>0.000000</td>\n",
       "      <td>0.000000</td>\n",
       "      <td>0.000000</td>\n",
       "      <td>0.123888</td>\n",
       "      <td>0.000000</td>\n",
       "      <td>0.000000</td>\n",
       "      <td>0.0</td>\n",
       "      <td>0.000000</td>\n",
       "      <td>0.000000</td>\n",
       "      <td>0.000000</td>\n",
       "      <td>0.000000</td>\n",
       "      <td>0.000000</td>\n",
       "      <td>0.000000</td>\n",
       "      <td>0.000000</td>\n",
       "      <td>0.0</td>\n",
       "      <td>0.000000</td>\n",
       "      <td>0.0</td>\n",
       "      <td>0.093352</td>\n",
       "      <td>0.083327</td>\n",
       "      <td>0.0</td>\n",
       "      <td>0.529297</td>\n",
       "      <td>0.077758</td>\n",
       "      <td>0.0</td>\n",
       "      <td>0.100113</td>\n",
       "      <td>0.000000</td>\n",
       "      <td>0.089833</td>\n",
       "      <td>0.0</td>\n",
       "      <td>0.109172</td>\n",
       "      <td>0.000000</td>\n",
       "      <td>0.000000</td>\n",
       "      <td>0.000000</td>\n",
       "      <td>0.000000</td>\n",
       "      <td>0.000000</td>\n",
       "      <td>0.000000</td>\n",
       "      <td>...</td>\n",
       "      <td>0.000000</td>\n",
       "      <td>0.000000</td>\n",
       "      <td>0.000000</td>\n",
       "      <td>0.076988</td>\n",
       "      <td>0.000000</td>\n",
       "      <td>0.110357</td>\n",
       "      <td>0.0</td>\n",
       "      <td>0.124750</td>\n",
       "      <td>0.104250</td>\n",
       "      <td>0.0</td>\n",
       "      <td>0.0</td>\n",
       "      <td>0.0</td>\n",
       "      <td>0.000000</td>\n",
       "      <td>0.000000</td>\n",
       "      <td>0.000000</td>\n",
       "      <td>0.000000</td>\n",
       "      <td>0.000000</td>\n",
       "      <td>0.095958</td>\n",
       "      <td>0.000000</td>\n",
       "      <td>0.000000</td>\n",
       "      <td>0.0</td>\n",
       "      <td>0.096585</td>\n",
       "      <td>0.0</td>\n",
       "      <td>0.000000</td>\n",
       "      <td>0.000000</td>\n",
       "      <td>0.0</td>\n",
       "      <td>0.099883</td>\n",
       "      <td>0.00000</td>\n",
       "      <td>0.000000</td>\n",
       "      <td>0.0</td>\n",
       "      <td>0.000000</td>\n",
       "      <td>0.000000</td>\n",
       "      <td>0.0</td>\n",
       "      <td>0.000000</td>\n",
       "      <td>0.0</td>\n",
       "    </tr>\n",
       "    <tr>\n",
       "      <th>2</th>\n",
       "      <td>0.000000</td>\n",
       "      <td>0.000000</td>\n",
       "      <td>0.000000</td>\n",
       "      <td>0.000000</td>\n",
       "      <td>0.000000</td>\n",
       "      <td>0.045568</td>\n",
       "      <td>0.000000</td>\n",
       "      <td>0.0</td>\n",
       "      <td>0.000000</td>\n",
       "      <td>0.000000</td>\n",
       "      <td>0.000000</td>\n",
       "      <td>0.000000</td>\n",
       "      <td>0.000000</td>\n",
       "      <td>0.000000</td>\n",
       "      <td>0.000000</td>\n",
       "      <td>0.0</td>\n",
       "      <td>0.210270</td>\n",
       "      <td>0.0</td>\n",
       "      <td>0.000000</td>\n",
       "      <td>0.000000</td>\n",
       "      <td>0.0</td>\n",
       "      <td>0.000000</td>\n",
       "      <td>0.000000</td>\n",
       "      <td>0.0</td>\n",
       "      <td>0.000000</td>\n",
       "      <td>0.000000</td>\n",
       "      <td>0.000000</td>\n",
       "      <td>0.0</td>\n",
       "      <td>0.000000</td>\n",
       "      <td>0.000000</td>\n",
       "      <td>0.000000</td>\n",
       "      <td>0.000000</td>\n",
       "      <td>0.000000</td>\n",
       "      <td>0.000000</td>\n",
       "      <td>0.000000</td>\n",
       "      <td>...</td>\n",
       "      <td>0.000000</td>\n",
       "      <td>0.000000</td>\n",
       "      <td>0.000000</td>\n",
       "      <td>0.000000</td>\n",
       "      <td>0.000000</td>\n",
       "      <td>0.000000</td>\n",
       "      <td>0.0</td>\n",
       "      <td>0.000000</td>\n",
       "      <td>0.000000</td>\n",
       "      <td>0.0</td>\n",
       "      <td>0.0</td>\n",
       "      <td>0.0</td>\n",
       "      <td>0.076558</td>\n",
       "      <td>0.000000</td>\n",
       "      <td>0.000000</td>\n",
       "      <td>0.000000</td>\n",
       "      <td>0.025035</td>\n",
       "      <td>0.000000</td>\n",
       "      <td>0.000000</td>\n",
       "      <td>0.000000</td>\n",
       "      <td>0.0</td>\n",
       "      <td>0.000000</td>\n",
       "      <td>0.0</td>\n",
       "      <td>0.000000</td>\n",
       "      <td>0.000000</td>\n",
       "      <td>0.0</td>\n",
       "      <td>0.049261</td>\n",
       "      <td>0.00000</td>\n",
       "      <td>0.000000</td>\n",
       "      <td>0.0</td>\n",
       "      <td>0.000000</td>\n",
       "      <td>0.000000</td>\n",
       "      <td>0.0</td>\n",
       "      <td>0.000000</td>\n",
       "      <td>0.0</td>\n",
       "    </tr>\n",
       "    <tr>\n",
       "      <th>3</th>\n",
       "      <td>0.000000</td>\n",
       "      <td>0.000000</td>\n",
       "      <td>0.000000</td>\n",
       "      <td>0.000000</td>\n",
       "      <td>0.000000</td>\n",
       "      <td>0.000000</td>\n",
       "      <td>0.015244</td>\n",
       "      <td>0.0</td>\n",
       "      <td>0.000000</td>\n",
       "      <td>0.262408</td>\n",
       "      <td>0.063688</td>\n",
       "      <td>0.000000</td>\n",
       "      <td>0.009579</td>\n",
       "      <td>0.000000</td>\n",
       "      <td>0.000000</td>\n",
       "      <td>0.0</td>\n",
       "      <td>0.000000</td>\n",
       "      <td>0.0</td>\n",
       "      <td>0.000000</td>\n",
       "      <td>0.000000</td>\n",
       "      <td>0.0</td>\n",
       "      <td>0.000000</td>\n",
       "      <td>0.009435</td>\n",
       "      <td>0.0</td>\n",
       "      <td>0.000000</td>\n",
       "      <td>0.000000</td>\n",
       "      <td>0.000000</td>\n",
       "      <td>0.0</td>\n",
       "      <td>0.000000</td>\n",
       "      <td>0.010879</td>\n",
       "      <td>0.010879</td>\n",
       "      <td>0.000000</td>\n",
       "      <td>0.000000</td>\n",
       "      <td>0.000000</td>\n",
       "      <td>0.000000</td>\n",
       "      <td>...</td>\n",
       "      <td>0.010794</td>\n",
       "      <td>0.000000</td>\n",
       "      <td>0.000000</td>\n",
       "      <td>0.009342</td>\n",
       "      <td>0.010021</td>\n",
       "      <td>0.000000</td>\n",
       "      <td>0.0</td>\n",
       "      <td>0.000000</td>\n",
       "      <td>0.012649</td>\n",
       "      <td>0.0</td>\n",
       "      <td>0.0</td>\n",
       "      <td>0.0</td>\n",
       "      <td>0.012557</td>\n",
       "      <td>0.000000</td>\n",
       "      <td>0.000000</td>\n",
       "      <td>0.069162</td>\n",
       "      <td>0.000000</td>\n",
       "      <td>0.000000</td>\n",
       "      <td>0.015465</td>\n",
       "      <td>0.019971</td>\n",
       "      <td>0.0</td>\n",
       "      <td>0.000000</td>\n",
       "      <td>0.0</td>\n",
       "      <td>0.000000</td>\n",
       "      <td>0.000000</td>\n",
       "      <td>0.0</td>\n",
       "      <td>0.000000</td>\n",
       "      <td>0.00000</td>\n",
       "      <td>0.000000</td>\n",
       "      <td>0.0</td>\n",
       "      <td>0.000000</td>\n",
       "      <td>0.000000</td>\n",
       "      <td>0.0</td>\n",
       "      <td>0.013972</td>\n",
       "      <td>0.0</td>\n",
       "    </tr>\n",
       "    <tr>\n",
       "      <th>4</th>\n",
       "      <td>0.000000</td>\n",
       "      <td>0.145848</td>\n",
       "      <td>0.000000</td>\n",
       "      <td>0.015422</td>\n",
       "      <td>0.000000</td>\n",
       "      <td>0.075147</td>\n",
       "      <td>0.000000</td>\n",
       "      <td>0.0</td>\n",
       "      <td>0.000000</td>\n",
       "      <td>0.000000</td>\n",
       "      <td>0.000000</td>\n",
       "      <td>0.000000</td>\n",
       "      <td>0.000000</td>\n",
       "      <td>0.000000</td>\n",
       "      <td>0.000000</td>\n",
       "      <td>0.0</td>\n",
       "      <td>0.000000</td>\n",
       "      <td>0.0</td>\n",
       "      <td>0.000000</td>\n",
       "      <td>0.000000</td>\n",
       "      <td>0.0</td>\n",
       "      <td>0.000000</td>\n",
       "      <td>0.007027</td>\n",
       "      <td>0.0</td>\n",
       "      <td>0.000000</td>\n",
       "      <td>0.010531</td>\n",
       "      <td>0.000000</td>\n",
       "      <td>0.0</td>\n",
       "      <td>0.000000</td>\n",
       "      <td>0.008102</td>\n",
       "      <td>0.008102</td>\n",
       "      <td>0.000000</td>\n",
       "      <td>0.007901</td>\n",
       "      <td>0.000000</td>\n",
       "      <td>0.000000</td>\n",
       "      <td>...</td>\n",
       "      <td>0.000000</td>\n",
       "      <td>0.066525</td>\n",
       "      <td>0.000000</td>\n",
       "      <td>0.000000</td>\n",
       "      <td>0.007463</td>\n",
       "      <td>0.000000</td>\n",
       "      <td>0.0</td>\n",
       "      <td>0.000000</td>\n",
       "      <td>0.000000</td>\n",
       "      <td>0.0</td>\n",
       "      <td>0.0</td>\n",
       "      <td>0.0</td>\n",
       "      <td>0.102874</td>\n",
       "      <td>0.008709</td>\n",
       "      <td>0.017344</td>\n",
       "      <td>0.000000</td>\n",
       "      <td>0.055048</td>\n",
       "      <td>0.000000</td>\n",
       "      <td>0.000000</td>\n",
       "      <td>0.037184</td>\n",
       "      <td>0.0</td>\n",
       "      <td>0.000000</td>\n",
       "      <td>0.0</td>\n",
       "      <td>0.000000</td>\n",
       "      <td>0.000000</td>\n",
       "      <td>0.0</td>\n",
       "      <td>0.000000</td>\n",
       "      <td>0.00000</td>\n",
       "      <td>0.000000</td>\n",
       "      <td>0.0</td>\n",
       "      <td>0.000000</td>\n",
       "      <td>0.011353</td>\n",
       "      <td>0.0</td>\n",
       "      <td>0.000000</td>\n",
       "      <td>0.0</td>\n",
       "    </tr>\n",
       "    <tr>\n",
       "      <th>5</th>\n",
       "      <td>0.000000</td>\n",
       "      <td>0.000000</td>\n",
       "      <td>0.000000</td>\n",
       "      <td>0.000000</td>\n",
       "      <td>0.000000</td>\n",
       "      <td>0.000000</td>\n",
       "      <td>0.000000</td>\n",
       "      <td>0.0</td>\n",
       "      <td>0.000000</td>\n",
       "      <td>0.000000</td>\n",
       "      <td>0.083712</td>\n",
       "      <td>0.000000</td>\n",
       "      <td>0.009157</td>\n",
       "      <td>0.000000</td>\n",
       "      <td>0.013126</td>\n",
       "      <td>0.0</td>\n",
       "      <td>0.000000</td>\n",
       "      <td>0.0</td>\n",
       "      <td>0.000000</td>\n",
       "      <td>0.009665</td>\n",
       "      <td>0.0</td>\n",
       "      <td>0.000000</td>\n",
       "      <td>0.000000</td>\n",
       "      <td>0.0</td>\n",
       "      <td>0.000000</td>\n",
       "      <td>0.000000</td>\n",
       "      <td>0.000000</td>\n",
       "      <td>0.0</td>\n",
       "      <td>0.000000</td>\n",
       "      <td>0.000000</td>\n",
       "      <td>0.000000</td>\n",
       "      <td>0.000000</td>\n",
       "      <td>0.070988</td>\n",
       "      <td>0.000000</td>\n",
       "      <td>0.144197</td>\n",
       "      <td>...</td>\n",
       "      <td>0.010318</td>\n",
       "      <td>0.000000</td>\n",
       "      <td>0.000000</td>\n",
       "      <td>0.000000</td>\n",
       "      <td>0.009579</td>\n",
       "      <td>0.000000</td>\n",
       "      <td>0.0</td>\n",
       "      <td>0.000000</td>\n",
       "      <td>0.000000</td>\n",
       "      <td>0.0</td>\n",
       "      <td>0.0</td>\n",
       "      <td>0.0</td>\n",
       "      <td>0.000000</td>\n",
       "      <td>0.000000</td>\n",
       "      <td>0.000000</td>\n",
       "      <td>0.132229</td>\n",
       "      <td>0.000000</td>\n",
       "      <td>0.000000</td>\n",
       "      <td>0.000000</td>\n",
       "      <td>0.028636</td>\n",
       "      <td>0.0</td>\n",
       "      <td>0.000000</td>\n",
       "      <td>0.0</td>\n",
       "      <td>0.000000</td>\n",
       "      <td>0.000000</td>\n",
       "      <td>0.0</td>\n",
       "      <td>0.000000</td>\n",
       "      <td>0.01253</td>\n",
       "      <td>0.287660</td>\n",
       "      <td>0.0</td>\n",
       "      <td>0.018252</td>\n",
       "      <td>0.000000</td>\n",
       "      <td>0.0</td>\n",
       "      <td>0.013356</td>\n",
       "      <td>0.0</td>\n",
       "    </tr>\n",
       "    <tr>\n",
       "      <th>6</th>\n",
       "      <td>0.000000</td>\n",
       "      <td>0.000000</td>\n",
       "      <td>0.000000</td>\n",
       "      <td>0.006793</td>\n",
       "      <td>0.000000</td>\n",
       "      <td>0.000000</td>\n",
       "      <td>0.000000</td>\n",
       "      <td>0.0</td>\n",
       "      <td>0.009511</td>\n",
       "      <td>0.033110</td>\n",
       "      <td>0.219381</td>\n",
       "      <td>0.000000</td>\n",
       "      <td>0.000000</td>\n",
       "      <td>0.000000</td>\n",
       "      <td>0.009009</td>\n",
       "      <td>0.0</td>\n",
       "      <td>0.242447</td>\n",
       "      <td>0.0</td>\n",
       "      <td>0.007432</td>\n",
       "      <td>0.000000</td>\n",
       "      <td>0.0</td>\n",
       "      <td>0.000000</td>\n",
       "      <td>0.006190</td>\n",
       "      <td>0.0</td>\n",
       "      <td>0.000000</td>\n",
       "      <td>0.000000</td>\n",
       "      <td>0.000000</td>\n",
       "      <td>0.0</td>\n",
       "      <td>0.000000</td>\n",
       "      <td>0.007138</td>\n",
       "      <td>0.007138</td>\n",
       "      <td>0.000000</td>\n",
       "      <td>0.153130</td>\n",
       "      <td>0.000000</td>\n",
       "      <td>0.000000</td>\n",
       "      <td>...</td>\n",
       "      <td>0.000000</td>\n",
       "      <td>0.000000</td>\n",
       "      <td>0.000000</td>\n",
       "      <td>0.006129</td>\n",
       "      <td>0.000000</td>\n",
       "      <td>0.000000</td>\n",
       "      <td>0.0</td>\n",
       "      <td>0.000000</td>\n",
       "      <td>0.000000</td>\n",
       "      <td>0.0</td>\n",
       "      <td>0.0</td>\n",
       "      <td>0.0</td>\n",
       "      <td>0.000000</td>\n",
       "      <td>0.000000</td>\n",
       "      <td>0.000000</td>\n",
       "      <td>0.000000</td>\n",
       "      <td>0.016165</td>\n",
       "      <td>0.000000</td>\n",
       "      <td>0.000000</td>\n",
       "      <td>0.026206</td>\n",
       "      <td>0.0</td>\n",
       "      <td>0.000000</td>\n",
       "      <td>0.0</td>\n",
       "      <td>0.000000</td>\n",
       "      <td>0.000000</td>\n",
       "      <td>0.0</td>\n",
       "      <td>0.000000</td>\n",
       "      <td>0.00000</td>\n",
       "      <td>0.007898</td>\n",
       "      <td>0.0</td>\n",
       "      <td>0.006264</td>\n",
       "      <td>0.000000</td>\n",
       "      <td>0.0</td>\n",
       "      <td>0.009167</td>\n",
       "      <td>0.0</td>\n",
       "    </tr>\n",
       "    <tr>\n",
       "      <th>7</th>\n",
       "      <td>0.000000</td>\n",
       "      <td>0.021093</td>\n",
       "      <td>0.010458</td>\n",
       "      <td>0.075830</td>\n",
       "      <td>0.000000</td>\n",
       "      <td>0.461886</td>\n",
       "      <td>0.013956</td>\n",
       "      <td>0.0</td>\n",
       "      <td>0.000000</td>\n",
       "      <td>0.018481</td>\n",
       "      <td>0.517493</td>\n",
       "      <td>0.035447</td>\n",
       "      <td>0.017540</td>\n",
       "      <td>0.048642</td>\n",
       "      <td>0.000000</td>\n",
       "      <td>0.0</td>\n",
       "      <td>0.000000</td>\n",
       "      <td>0.0</td>\n",
       "      <td>0.020741</td>\n",
       "      <td>0.018514</td>\n",
       "      <td>0.0</td>\n",
       "      <td>0.000000</td>\n",
       "      <td>0.008638</td>\n",
       "      <td>0.0</td>\n",
       "      <td>0.022243</td>\n",
       "      <td>0.000000</td>\n",
       "      <td>0.000000</td>\n",
       "      <td>0.0</td>\n",
       "      <td>0.000000</td>\n",
       "      <td>0.000000</td>\n",
       "      <td>0.000000</td>\n",
       "      <td>0.000000</td>\n",
       "      <td>0.029138</td>\n",
       "      <td>0.024790</td>\n",
       "      <td>0.000000</td>\n",
       "      <td>...</td>\n",
       "      <td>0.029647</td>\n",
       "      <td>0.020445</td>\n",
       "      <td>0.012643</td>\n",
       "      <td>0.000000</td>\n",
       "      <td>0.009174</td>\n",
       "      <td>0.049038</td>\n",
       "      <td>0.0</td>\n",
       "      <td>0.027717</td>\n",
       "      <td>0.011581</td>\n",
       "      <td>0.0</td>\n",
       "      <td>0.0</td>\n",
       "      <td>0.0</td>\n",
       "      <td>0.000000</td>\n",
       "      <td>0.000000</td>\n",
       "      <td>0.000000</td>\n",
       "      <td>0.036184</td>\n",
       "      <td>0.000000</td>\n",
       "      <td>0.021320</td>\n",
       "      <td>0.000000</td>\n",
       "      <td>0.027426</td>\n",
       "      <td>0.0</td>\n",
       "      <td>0.010730</td>\n",
       "      <td>0.0</td>\n",
       "      <td>0.012096</td>\n",
       "      <td>0.000000</td>\n",
       "      <td>0.0</td>\n",
       "      <td>0.000000</td>\n",
       "      <td>0.00000</td>\n",
       "      <td>0.132243</td>\n",
       "      <td>0.0</td>\n",
       "      <td>0.017480</td>\n",
       "      <td>0.000000</td>\n",
       "      <td>0.0</td>\n",
       "      <td>0.012792</td>\n",
       "      <td>0.0</td>\n",
       "    </tr>\n",
       "    <tr>\n",
       "      <th>8</th>\n",
       "      <td>0.000000</td>\n",
       "      <td>0.000000</td>\n",
       "      <td>0.000000</td>\n",
       "      <td>0.069161</td>\n",
       "      <td>0.000000</td>\n",
       "      <td>0.016643</td>\n",
       "      <td>0.000000</td>\n",
       "      <td>0.0</td>\n",
       "      <td>0.010759</td>\n",
       "      <td>0.157316</td>\n",
       "      <td>0.295451</td>\n",
       "      <td>0.009579</td>\n",
       "      <td>0.000000</td>\n",
       "      <td>0.000000</td>\n",
       "      <td>0.000000</td>\n",
       "      <td>0.0</td>\n",
       "      <td>0.000000</td>\n",
       "      <td>0.0</td>\n",
       "      <td>0.000000</td>\n",
       "      <td>0.007505</td>\n",
       "      <td>0.0</td>\n",
       "      <td>0.061290</td>\n",
       "      <td>0.007003</td>\n",
       "      <td>0.0</td>\n",
       "      <td>0.000000</td>\n",
       "      <td>0.000000</td>\n",
       "      <td>0.008091</td>\n",
       "      <td>0.0</td>\n",
       "      <td>0.000000</td>\n",
       "      <td>0.008075</td>\n",
       "      <td>0.008075</td>\n",
       "      <td>0.096106</td>\n",
       "      <td>0.251973</td>\n",
       "      <td>0.000000</td>\n",
       "      <td>0.000000</td>\n",
       "      <td>...</td>\n",
       "      <td>0.016023</td>\n",
       "      <td>0.000000</td>\n",
       "      <td>0.000000</td>\n",
       "      <td>0.000000</td>\n",
       "      <td>0.007438</td>\n",
       "      <td>0.000000</td>\n",
       "      <td>0.0</td>\n",
       "      <td>0.000000</td>\n",
       "      <td>0.000000</td>\n",
       "      <td>0.0</td>\n",
       "      <td>0.0</td>\n",
       "      <td>0.0</td>\n",
       "      <td>0.000000</td>\n",
       "      <td>0.000000</td>\n",
       "      <td>0.008642</td>\n",
       "      <td>0.007334</td>\n",
       "      <td>0.009143</td>\n",
       "      <td>0.000000</td>\n",
       "      <td>0.000000</td>\n",
       "      <td>0.029646</td>\n",
       "      <td>0.0</td>\n",
       "      <td>0.008699</td>\n",
       "      <td>0.0</td>\n",
       "      <td>0.000000</td>\n",
       "      <td>0.000000</td>\n",
       "      <td>0.0</td>\n",
       "      <td>0.000000</td>\n",
       "      <td>0.00000</td>\n",
       "      <td>0.008934</td>\n",
       "      <td>0.0</td>\n",
       "      <td>0.014172</td>\n",
       "      <td>0.011315</td>\n",
       "      <td>0.0</td>\n",
       "      <td>0.000000</td>\n",
       "      <td>0.0</td>\n",
       "    </tr>\n",
       "    <tr>\n",
       "      <th>9</th>\n",
       "      <td>0.000000</td>\n",
       "      <td>0.023918</td>\n",
       "      <td>0.039528</td>\n",
       "      <td>0.000000</td>\n",
       "      <td>0.000000</td>\n",
       "      <td>0.031038</td>\n",
       "      <td>0.000000</td>\n",
       "      <td>0.0</td>\n",
       "      <td>0.000000</td>\n",
       "      <td>0.006985</td>\n",
       "      <td>0.495904</td>\n",
       "      <td>0.000000</td>\n",
       "      <td>0.006630</td>\n",
       "      <td>0.000000</td>\n",
       "      <td>0.000000</td>\n",
       "      <td>0.0</td>\n",
       "      <td>0.132992</td>\n",
       "      <td>0.0</td>\n",
       "      <td>0.000000</td>\n",
       "      <td>0.006998</td>\n",
       "      <td>0.0</td>\n",
       "      <td>0.095253</td>\n",
       "      <td>0.000000</td>\n",
       "      <td>0.0</td>\n",
       "      <td>0.000000</td>\n",
       "      <td>0.058721</td>\n",
       "      <td>0.000000</td>\n",
       "      <td>0.0</td>\n",
       "      <td>0.000000</td>\n",
       "      <td>0.000000</td>\n",
       "      <td>0.000000</td>\n",
       "      <td>0.016294</td>\n",
       "      <td>0.220275</td>\n",
       "      <td>0.093705</td>\n",
       "      <td>0.073082</td>\n",
       "      <td>...</td>\n",
       "      <td>0.037354</td>\n",
       "      <td>0.000000</td>\n",
       "      <td>0.009558</td>\n",
       "      <td>0.000000</td>\n",
       "      <td>0.006936</td>\n",
       "      <td>0.000000</td>\n",
       "      <td>0.0</td>\n",
       "      <td>0.000000</td>\n",
       "      <td>0.000000</td>\n",
       "      <td>0.0</td>\n",
       "      <td>0.0</td>\n",
       "      <td>0.0</td>\n",
       "      <td>0.000000</td>\n",
       "      <td>0.000000</td>\n",
       "      <td>0.000000</td>\n",
       "      <td>0.109416</td>\n",
       "      <td>0.000000</td>\n",
       "      <td>0.000000</td>\n",
       "      <td>0.000000</td>\n",
       "      <td>0.006911</td>\n",
       "      <td>0.0</td>\n",
       "      <td>0.000000</td>\n",
       "      <td>0.0</td>\n",
       "      <td>0.000000</td>\n",
       "      <td>0.000000</td>\n",
       "      <td>0.0</td>\n",
       "      <td>0.000000</td>\n",
       "      <td>0.00000</td>\n",
       "      <td>0.000000</td>\n",
       "      <td>0.0</td>\n",
       "      <td>0.000000</td>\n",
       "      <td>0.000000</td>\n",
       "      <td>0.0</td>\n",
       "      <td>0.000000</td>\n",
       "      <td>0.0</td>\n",
       "    </tr>\n",
       "  </tbody>\n",
       "</table>\n",
       "<p>10 rows × 149 columns</p>\n",
       "</div>"
      ],
      "text/plain": [
       "        0         1         2         3         4         5         6    7    \\\n",
       "0  0.000000  0.044573  0.000000  0.040061  0.000000  0.000000  0.000000  0.0   \n",
       "1  0.121015  0.000000  0.000000  0.000000  0.123888  0.000000  0.000000  0.0   \n",
       "2  0.000000  0.000000  0.000000  0.000000  0.000000  0.045568  0.000000  0.0   \n",
       "3  0.000000  0.000000  0.000000  0.000000  0.000000  0.000000  0.015244  0.0   \n",
       "4  0.000000  0.145848  0.000000  0.015422  0.000000  0.075147  0.000000  0.0   \n",
       "5  0.000000  0.000000  0.000000  0.000000  0.000000  0.000000  0.000000  0.0   \n",
       "6  0.000000  0.000000  0.000000  0.006793  0.000000  0.000000  0.000000  0.0   \n",
       "7  0.000000  0.021093  0.010458  0.075830  0.000000  0.461886  0.013956  0.0   \n",
       "8  0.000000  0.000000  0.000000  0.069161  0.000000  0.016643  0.000000  0.0   \n",
       "9  0.000000  0.023918  0.039528  0.000000  0.000000  0.031038  0.000000  0.0   \n",
       "\n",
       "        8         9         10        11        12        13        14   15   \\\n",
       "0  0.000000  0.156211  0.739310  0.000000  0.000000  0.000000  0.000000  0.0   \n",
       "1  0.000000  0.000000  0.000000  0.000000  0.000000  0.000000  0.000000  0.0   \n",
       "2  0.000000  0.000000  0.000000  0.000000  0.000000  0.000000  0.000000  0.0   \n",
       "3  0.000000  0.262408  0.063688  0.000000  0.009579  0.000000  0.000000  0.0   \n",
       "4  0.000000  0.000000  0.000000  0.000000  0.000000  0.000000  0.000000  0.0   \n",
       "5  0.000000  0.000000  0.083712  0.000000  0.009157  0.000000  0.013126  0.0   \n",
       "6  0.009511  0.033110  0.219381  0.000000  0.000000  0.000000  0.009009  0.0   \n",
       "7  0.000000  0.018481  0.517493  0.035447  0.017540  0.048642  0.000000  0.0   \n",
       "8  0.010759  0.157316  0.295451  0.009579  0.000000  0.000000  0.000000  0.0   \n",
       "9  0.000000  0.006985  0.495904  0.000000  0.006630  0.000000  0.000000  0.0   \n",
       "\n",
       "        16   17        18        19   20        21        22   23        24   \\\n",
       "0  0.057193  0.0  0.043830  0.000000  0.0  0.071003  0.000000  0.0  0.000000   \n",
       "1  0.000000  0.0  0.093352  0.083327  0.0  0.529297  0.077758  0.0  0.100113   \n",
       "2  0.210270  0.0  0.000000  0.000000  0.0  0.000000  0.000000  0.0  0.000000   \n",
       "3  0.000000  0.0  0.000000  0.000000  0.0  0.000000  0.009435  0.0  0.000000   \n",
       "4  0.000000  0.0  0.000000  0.000000  0.0  0.000000  0.007027  0.0  0.000000   \n",
       "5  0.000000  0.0  0.000000  0.009665  0.0  0.000000  0.000000  0.0  0.000000   \n",
       "6  0.242447  0.0  0.007432  0.000000  0.0  0.000000  0.006190  0.0  0.000000   \n",
       "7  0.000000  0.0  0.020741  0.018514  0.0  0.000000  0.008638  0.0  0.022243   \n",
       "8  0.000000  0.0  0.000000  0.007505  0.0  0.061290  0.007003  0.0  0.000000   \n",
       "9  0.132992  0.0  0.000000  0.006998  0.0  0.095253  0.000000  0.0  0.000000   \n",
       "\n",
       "        25        26   27        28        29        30        31        32   \\\n",
       "0  0.000000  0.000000  0.0  0.000000  0.000000  0.000000  0.000000  0.000000   \n",
       "1  0.000000  0.089833  0.0  0.109172  0.000000  0.000000  0.000000  0.000000   \n",
       "2  0.000000  0.000000  0.0  0.000000  0.000000  0.000000  0.000000  0.000000   \n",
       "3  0.000000  0.000000  0.0  0.000000  0.010879  0.010879  0.000000  0.000000   \n",
       "4  0.010531  0.000000  0.0  0.000000  0.008102  0.008102  0.000000  0.007901   \n",
       "5  0.000000  0.000000  0.0  0.000000  0.000000  0.000000  0.000000  0.070988   \n",
       "6  0.000000  0.000000  0.0  0.000000  0.007138  0.007138  0.000000  0.153130   \n",
       "7  0.000000  0.000000  0.0  0.000000  0.000000  0.000000  0.000000  0.029138   \n",
       "8  0.000000  0.008091  0.0  0.000000  0.008075  0.008075  0.096106  0.251973   \n",
       "9  0.058721  0.000000  0.0  0.000000  0.000000  0.000000  0.016294  0.220275   \n",
       "\n",
       "        33        34  ...        114       115       116       117       118  \\\n",
       "0  0.000000  0.000000 ...   0.041766  0.000000  0.000000  0.000000  0.000000   \n",
       "1  0.000000  0.000000 ...   0.000000  0.000000  0.000000  0.076988  0.000000   \n",
       "2  0.000000  0.000000 ...   0.000000  0.000000  0.000000  0.000000  0.000000   \n",
       "3  0.000000  0.000000 ...   0.010794  0.000000  0.000000  0.009342  0.010021   \n",
       "4  0.000000  0.000000 ...   0.000000  0.066525  0.000000  0.000000  0.007463   \n",
       "5  0.000000  0.144197 ...   0.010318  0.000000  0.000000  0.000000  0.009579   \n",
       "6  0.000000  0.000000 ...   0.000000  0.000000  0.000000  0.006129  0.000000   \n",
       "7  0.024790  0.000000 ...   0.029647  0.020445  0.012643  0.000000  0.009174   \n",
       "8  0.000000  0.000000 ...   0.016023  0.000000  0.000000  0.000000  0.007438   \n",
       "9  0.093705  0.073082 ...   0.037354  0.000000  0.009558  0.000000  0.006936   \n",
       "\n",
       "        119  120       121       122  123  124  125       126       127  \\\n",
       "0  0.103627  0.0  0.058571  0.000000  0.0  0.0  0.0  0.000000  0.000000   \n",
       "1  0.110357  0.0  0.124750  0.104250  0.0  0.0  0.0  0.000000  0.000000   \n",
       "2  0.000000  0.0  0.000000  0.000000  0.0  0.0  0.0  0.076558  0.000000   \n",
       "3  0.000000  0.0  0.000000  0.012649  0.0  0.0  0.0  0.012557  0.000000   \n",
       "4  0.000000  0.0  0.000000  0.000000  0.0  0.0  0.0  0.102874  0.008709   \n",
       "5  0.000000  0.0  0.000000  0.000000  0.0  0.0  0.0  0.000000  0.000000   \n",
       "6  0.000000  0.0  0.000000  0.000000  0.0  0.0  0.0  0.000000  0.000000   \n",
       "7  0.049038  0.0  0.027717  0.011581  0.0  0.0  0.0  0.000000  0.000000   \n",
       "8  0.000000  0.0  0.000000  0.000000  0.0  0.0  0.0  0.000000  0.000000   \n",
       "9  0.000000  0.0  0.000000  0.000000  0.0  0.0  0.0  0.000000  0.000000   \n",
       "\n",
       "        128       129       130       131       132       133  134       135  \\\n",
       "0  0.135160  0.038231  0.000000  0.000000  0.000000  0.000000  0.0  0.000000   \n",
       "1  0.000000  0.000000  0.000000  0.095958  0.000000  0.000000  0.0  0.096585   \n",
       "2  0.000000  0.000000  0.025035  0.000000  0.000000  0.000000  0.0  0.000000   \n",
       "3  0.000000  0.069162  0.000000  0.000000  0.015465  0.019971  0.0  0.000000   \n",
       "4  0.017344  0.000000  0.055048  0.000000  0.000000  0.037184  0.0  0.000000   \n",
       "5  0.000000  0.132229  0.000000  0.000000  0.000000  0.028636  0.0  0.000000   \n",
       "6  0.000000  0.000000  0.016165  0.000000  0.000000  0.026206  0.0  0.000000   \n",
       "7  0.000000  0.036184  0.000000  0.021320  0.000000  0.027426  0.0  0.010730   \n",
       "8  0.008642  0.007334  0.009143  0.000000  0.000000  0.029646  0.0  0.008699   \n",
       "9  0.000000  0.109416  0.000000  0.000000  0.000000  0.006911  0.0  0.000000   \n",
       "\n",
       "   136       137       138  139       140      141       142  143       144  \\\n",
       "0  0.0  0.000000  0.052979  0.0  0.000000  0.00000  0.000000  0.0  0.000000   \n",
       "1  0.0  0.000000  0.000000  0.0  0.099883  0.00000  0.000000  0.0  0.000000   \n",
       "2  0.0  0.000000  0.000000  0.0  0.049261  0.00000  0.000000  0.0  0.000000   \n",
       "3  0.0  0.000000  0.000000  0.0  0.000000  0.00000  0.000000  0.0  0.000000   \n",
       "4  0.0  0.000000  0.000000  0.0  0.000000  0.00000  0.000000  0.0  0.000000   \n",
       "5  0.0  0.000000  0.000000  0.0  0.000000  0.01253  0.287660  0.0  0.018252   \n",
       "6  0.0  0.000000  0.000000  0.0  0.000000  0.00000  0.007898  0.0  0.006264   \n",
       "7  0.0  0.012096  0.000000  0.0  0.000000  0.00000  0.132243  0.0  0.017480   \n",
       "8  0.0  0.000000  0.000000  0.0  0.000000  0.00000  0.008934  0.0  0.014172   \n",
       "9  0.0  0.000000  0.000000  0.0  0.000000  0.00000  0.000000  0.0  0.000000   \n",
       "\n",
       "        145  146       147  148  \n",
       "0  0.000000  0.0  0.108128  0.0  \n",
       "1  0.000000  0.0  0.000000  0.0  \n",
       "2  0.000000  0.0  0.000000  0.0  \n",
       "3  0.000000  0.0  0.013972  0.0  \n",
       "4  0.011353  0.0  0.000000  0.0  \n",
       "5  0.000000  0.0  0.013356  0.0  \n",
       "6  0.000000  0.0  0.009167  0.0  \n",
       "7  0.000000  0.0  0.012792  0.0  \n",
       "8  0.011315  0.0  0.000000  0.0  \n",
       "9  0.000000  0.0  0.000000  0.0  \n",
       "\n",
       "[10 rows x 149 columns]"
      ]
     },
     "execution_count": 19,
     "metadata": {},
     "output_type": "execute_result"
    }
   ],
   "source": [
    "print(tfidf_matrix.shape)\n",
    "pd.DataFrame(tfidf_matrix.toarray()).head(10)"
   ]
  },
  {
   "cell_type": "markdown",
   "metadata": {},
   "source": [
    "### Assign Number of Topics using NMF! \n"
   ]
  },
  {
   "cell_type": "markdown",
   "metadata": {
    "ExecuteTime": {
     "end_time": "2018-06-05T19:05:05.280398Z",
     "start_time": "2018-06-05T19:05:05.276949Z"
    }
   },
   "source": [
    "##### Below script used for creating the model and saving the model. The model is already created and saved. "
   ]
  },
  {
   "cell_type": "code",
   "execution_count": 20,
   "metadata": {
    "ExecuteTime": {
     "end_time": "2018-06-06T02:19:04.978977Z",
     "start_time": "2018-06-06T02:19:04.974929Z"
    },
    "collapsed": true
   },
   "outputs": [],
   "source": [
    "# nmf = NMF(n_components=32, random_state=1, alpha=.1, l1_ratio=.5, init='nndsvd').fit(tfidf_matrix)\n",
    "# tfidf_matrix.toarray()\n",
    "# tfidf_matrix.shape\n",
    "\n",
    "# import pickle \n",
    "# with open('nmf.pkl', 'wb') as file:\n",
    "#     pickle.dump(nmf,file)"
   ]
  },
  {
   "cell_type": "markdown",
   "metadata": {},
   "source": [
    "### Import the NMF Model:"
   ]
  },
  {
   "cell_type": "code",
   "execution_count": 21,
   "metadata": {
    "ExecuteTime": {
     "end_time": "2018-06-06T02:19:04.996963Z",
     "start_time": "2018-06-06T02:19:04.981736Z"
    },
    "collapsed": true
   },
   "outputs": [],
   "source": [
    "import pickle\n",
    "with open(\"pickle_files/nmf.pkl\",'rb') as picklefile:\n",
    "    pickle_nmf_load=pickle.load(picklefile)"
   ]
  },
  {
   "cell_type": "markdown",
   "metadata": {
    "ExecuteTime": {
     "end_time": "2018-06-05T19:19:33.610101Z",
     "start_time": "2018-06-05T19:19:33.602574Z"
    }
   },
   "source": [
    "### Visualize the topic matrix using:\n",
    "    1) TFIDF Matrix that was created from imported vectorizer. \n",
    "    2) Use NMF Pickled model to transform the TFIDF Matri"
   ]
  },
  {
   "cell_type": "code",
   "execution_count": 22,
   "metadata": {
    "ExecuteTime": {
     "end_time": "2018-06-06T02:19:05.045386Z",
     "start_time": "2018-06-06T02:19:04.999046Z"
    },
    "scrolled": true
   },
   "outputs": [
    {
     "data": {
      "text/html": [
       "<div>\n",
       "<style>\n",
       "    .dataframe thead tr:only-child th {\n",
       "        text-align: right;\n",
       "    }\n",
       "\n",
       "    .dataframe thead th {\n",
       "        text-align: left;\n",
       "    }\n",
       "\n",
       "    .dataframe tbody tr th {\n",
       "        vertical-align: top;\n",
       "    }\n",
       "</style>\n",
       "<table border=\"1\" class=\"dataframe\">\n",
       "  <thead>\n",
       "    <tr style=\"text-align: right;\">\n",
       "      <th></th>\n",
       "      <th>Topic 0</th>\n",
       "      <th>Topic 1</th>\n",
       "      <th>Topic 2</th>\n",
       "      <th>Topic 3</th>\n",
       "      <th>Topic 4</th>\n",
       "      <th>Topic 5</th>\n",
       "      <th>Topic 6</th>\n",
       "      <th>Topic 7</th>\n",
       "      <th>Topic 8</th>\n",
       "      <th>Topic 9</th>\n",
       "      <th>Topic 10</th>\n",
       "      <th>Topic 11</th>\n",
       "      <th>Topic 12</th>\n",
       "      <th>Topic 13</th>\n",
       "      <th>Topic 14</th>\n",
       "      <th>Topic 15</th>\n",
       "      <th>Topic 16</th>\n",
       "      <th>Topic 17</th>\n",
       "      <th>Topic 18</th>\n",
       "      <th>Topic 19</th>\n",
       "      <th>Topic 20</th>\n",
       "      <th>Topic 21</th>\n",
       "      <th>Topic 22</th>\n",
       "      <th>Topic 23</th>\n",
       "      <th>Topic 24</th>\n",
       "      <th>Topic 25</th>\n",
       "      <th>Topic 26</th>\n",
       "      <th>Topic 27</th>\n",
       "      <th>Topic 28</th>\n",
       "      <th>Topic 29</th>\n",
       "      <th>Topic 30</th>\n",
       "      <th>Topic 31</th>\n",
       "    </tr>\n",
       "  </thead>\n",
       "  <tbody>\n",
       "    <tr>\n",
       "      <th>0</th>\n",
       "      <td>pon 65.9%</td>\n",
       "      <td>blast 62.6%</td>\n",
       "      <td>llama 84.3%</td>\n",
       "      <td>raccattack 84.6%</td>\n",
       "      <td>wins 4.0%</td>\n",
       "      <td>creep 62.4%</td>\n",
       "      <td>iq 73.2%</td>\n",
       "      <td>hype 83.5%</td>\n",
       "      <td>fail 81.8%</td>\n",
       "      <td>fortone 79.3%</td>\n",
       "      <td>clap 69.9%</td>\n",
       "      <td>aim 80.9%</td>\n",
       "      <td>wifey 85.8%</td>\n",
       "      <td>shirt 60.0%</td>\n",
       "      <td>prime 23.3%</td>\n",
       "      <td>lul 64.9%</td>\n",
       "      <td>bush 86.9%</td>\n",
       "      <td>gold 66.1%</td>\n",
       "      <td>tooth 66.8%</td>\n",
       "      <td>shield 73.7%</td>\n",
       "      <td>splat 86.0%</td>\n",
       "      <td>aww 84.0%</td>\n",
       "      <td>popcorn 76.7%</td>\n",
       "      <td>fan 83.6%</td>\n",
       "      <td>blank 74.9%</td>\n",
       "      <td>hyper 68.4%</td>\n",
       "      <td>food 88.1%</td>\n",
       "      <td>rekt 51.4%</td>\n",
       "      <td>lil 76.6%</td>\n",
       "      <td>fortllama 66.1%</td>\n",
       "      <td>amazing 80.6%</td>\n",
       "      <td>giveaway 14.8%</td>\n",
       "    </tr>\n",
       "    <tr>\n",
       "      <th>1</th>\n",
       "      <td>creep 1.3%</td>\n",
       "      <td>splode 3.4%</td>\n",
       "      <td>fortllama 1.9%</td>\n",
       "      <td>pon 2.2%</td>\n",
       "      <td>just 2.8%</td>\n",
       "      <td>blood 3.0%</td>\n",
       "      <td>hs 3.6%</td>\n",
       "      <td>bomb 3.3%</td>\n",
       "      <td>troll 4.0%</td>\n",
       "      <td>fortbush 3.2%</td>\n",
       "      <td>pogchamp 3.9%</td>\n",
       "      <td>hs 3.4%</td>\n",
       "      <td>skin 2.3%</td>\n",
       "      <td>shirts 10.6%</td>\n",
       "      <td>free 10.1%</td>\n",
       "      <td>lol 6.4%</td>\n",
       "      <td>fortbush 3.9%</td>\n",
       "      <td>thirst 6.6%</td>\n",
       "      <td>adore 9.3%</td>\n",
       "      <td>disco 4.1%</td>\n",
       "      <td>throw 3.5%</td>\n",
       "      <td>throw 2.0%</td>\n",
       "      <td>hi 3.5%</td>\n",
       "      <td>shrug 2.4%</td>\n",
       "      <td>cash 5.4%</td>\n",
       "      <td>hyperr 20.8%</td>\n",
       "      <td>blind 2.8%</td>\n",
       "      <td>pogchamp 15.5%</td>\n",
       "      <td>want 2.7%</td>\n",
       "      <td>cheer 18.6%</td>\n",
       "      <td>lol 4.6%</td>\n",
       "      <td>click 8.0%</td>\n",
       "    </tr>\n",
       "    <tr>\n",
       "      <th>2</th>\n",
       "      <td>blood 1.2%</td>\n",
       "      <td>stars 2.7%</td>\n",
       "      <td>skin 1.0%</td>\n",
       "      <td>blast 1.8%</td>\n",
       "      <td>game 2.5%</td>\n",
       "      <td>hi 1.9%</td>\n",
       "      <td>pogchamp 2.9%</td>\n",
       "      <td>splode 2.9%</td>\n",
       "      <td>splode 2.7%</td>\n",
       "      <td>blood 2.6%</td>\n",
       "      <td>blood 3.3%</td>\n",
       "      <td>fortbush 3.4%</td>\n",
       "      <td>troll 1.9%</td>\n",
       "      <td>charity 10.2%</td>\n",
       "      <td>twitch 7.4%</td>\n",
       "      <td>splode 3.6%</td>\n",
       "      <td>blood 3.4%</td>\n",
       "      <td>troll 4.6%</td>\n",
       "      <td>thirst 3.6%</td>\n",
       "      <td>hi 2.5%</td>\n",
       "      <td>rip 1.7%</td>\n",
       "      <td>whisper 1.9%</td>\n",
       "      <td>thirst 3.4%</td>\n",
       "      <td>troll 2.0%</td>\n",
       "      <td>want 5.3%</td>\n",
       "      <td>bomb 1.6%</td>\n",
       "      <td>join 2.3%</td>\n",
       "      <td>hs 8.3%</td>\n",
       "      <td>pogchamp 1.9%</td>\n",
       "      <td>pogchamp 3.1%</td>\n",
       "      <td>thirst 3.8%</td>\n",
       "      <td>pc 7.5%</td>\n",
       "    </tr>\n",
       "    <tr>\n",
       "      <th>3</th>\n",
       "      <td>hi 1.2%</td>\n",
       "      <td>blood 2.4%</td>\n",
       "      <td>cash 0.9%</td>\n",
       "      <td>stars 1.8%</td>\n",
       "      <td>like 2.4%</td>\n",
       "      <td>cheer 1.6%</td>\n",
       "      <td>splode 2.2%</td>\n",
       "      <td>pon 1.6%</td>\n",
       "      <td>blind 1.5%</td>\n",
       "      <td>throw 2.1%</td>\n",
       "      <td>adore 2.7%</td>\n",
       "      <td>bits 2.3%</td>\n",
       "      <td>adore 1.4%</td>\n",
       "      <td>hey 2.8%</td>\n",
       "      <td>subscribe 5.5%</td>\n",
       "      <td>lmao 3.5%</td>\n",
       "      <td>got 1.1%</td>\n",
       "      <td>stars 3.6%</td>\n",
       "      <td>troll 3.2%</td>\n",
       "      <td>im 2.4%</td>\n",
       "      <td>lol 1.4%</td>\n",
       "      <td>stars 1.9%</td>\n",
       "      <td>hs 2.8%</td>\n",
       "      <td>bits 1.9%</td>\n",
       "      <td>lol 2.3%</td>\n",
       "      <td>troll 1.3%</td>\n",
       "      <td>cash 1.9%</td>\n",
       "      <td>blood 6.6%</td>\n",
       "      <td>chat 1.6%</td>\n",
       "      <td>blood 1.9%</td>\n",
       "      <td>wow 1.9%</td>\n",
       "      <td>nzxt 6.7%</td>\n",
       "    </tr>\n",
       "    <tr>\n",
       "      <th>4</th>\n",
       "      <td>stars 1.2%</td>\n",
       "      <td>hs 1.6%</td>\n",
       "      <td>pon 0.9%</td>\n",
       "      <td>thirst 1.4%</td>\n",
       "      <td>does 2.3%</td>\n",
       "      <td>troll 1.6%</td>\n",
       "      <td>troll 1.8%</td>\n",
       "      <td>guy 0.8%</td>\n",
       "      <td>lul 1.1%</td>\n",
       "      <td>stars 1.2%</td>\n",
       "      <td>splode 2.4%</td>\n",
       "      <td>blood 2.3%</td>\n",
       "      <td>bits 1.2%</td>\n",
       "      <td>hours 1.9%</td>\n",
       "      <td>link 5.5%</td>\n",
       "      <td>kappa 2.3%</td>\n",
       "      <td>splode 1.1%</td>\n",
       "      <td>join 2.8%</td>\n",
       "      <td>lol 3.0%</td>\n",
       "      <td>blood 2.1%</td>\n",
       "      <td>blood 1.4%</td>\n",
       "      <td>think 1.2%</td>\n",
       "      <td>hyperr 2.1%</td>\n",
       "      <td>games 1.9%</td>\n",
       "      <td>new 2.1%</td>\n",
       "      <td>stream 1.1%</td>\n",
       "      <td>twitch 1.5%</td>\n",
       "      <td>splode 4.3%</td>\n",
       "      <td>adore 1.6%</td>\n",
       "      <td>fortbush 1.6%</td>\n",
       "      <td>guy 1.8%</td>\n",
       "      <td>hi 6.5%</td>\n",
       "    </tr>\n",
       "  </tbody>\n",
       "</table>\n",
       "</div>"
      ],
      "text/plain": [
       "      Topic 0      Topic 1         Topic 2           Topic 3    Topic 4  \\\n",
       "0   pon 65.9%  blast 62.6%     llama 84.3%  raccattack 84.6%  wins 4.0%   \n",
       "1  creep 1.3%  splode 3.4%  fortllama 1.9%          pon 2.2%  just 2.8%   \n",
       "2  blood 1.2%   stars 2.7%       skin 1.0%        blast 1.8%  game 2.5%   \n",
       "3     hi 1.2%   blood 2.4%       cash 0.9%        stars 1.8%  like 2.4%   \n",
       "4  stars 1.2%      hs 1.6%        pon 0.9%       thirst 1.4%  does 2.3%   \n",
       "\n",
       "       Topic 5        Topic 6      Topic 7      Topic 8        Topic 9  \\\n",
       "0  creep 62.4%       iq 73.2%   hype 83.5%   fail 81.8%  fortone 79.3%   \n",
       "1   blood 3.0%        hs 3.6%    bomb 3.3%   troll 4.0%  fortbush 3.2%   \n",
       "2      hi 1.9%  pogchamp 2.9%  splode 2.9%  splode 2.7%     blood 2.6%   \n",
       "3   cheer 1.6%    splode 2.2%     pon 1.6%   blind 1.5%     throw 2.1%   \n",
       "4   troll 1.6%     troll 1.8%     guy 0.8%     lul 1.1%     stars 1.2%   \n",
       "\n",
       "        Topic 10       Topic 11     Topic 12       Topic 13        Topic 14  \\\n",
       "0     clap 69.9%      aim 80.9%  wifey 85.8%    shirt 60.0%     prime 23.3%   \n",
       "1  pogchamp 3.9%        hs 3.4%    skin 2.3%   shirts 10.6%      free 10.1%   \n",
       "2     blood 3.3%  fortbush 3.4%   troll 1.9%  charity 10.2%     twitch 7.4%   \n",
       "3     adore 2.7%      bits 2.3%   adore 1.4%       hey 2.8%  subscribe 5.5%   \n",
       "4    splode 2.4%     blood 2.3%    bits 1.2%     hours 1.9%       link 5.5%   \n",
       "\n",
       "      Topic 15       Topic 16     Topic 17     Topic 18      Topic 19  \\\n",
       "0    lul 64.9%     bush 86.9%   gold 66.1%  tooth 66.8%  shield 73.7%   \n",
       "1     lol 6.4%  fortbush 3.9%  thirst 6.6%   adore 9.3%    disco 4.1%   \n",
       "2  splode 3.6%     blood 3.4%   troll 4.6%  thirst 3.6%       hi 2.5%   \n",
       "3    lmao 3.5%       got 1.1%   stars 3.6%   troll 3.2%       im 2.4%   \n",
       "4   kappa 2.3%    splode 1.1%    join 2.8%     lol 3.0%    blood 2.1%   \n",
       "\n",
       "      Topic 20      Topic 21       Topic 22    Topic 23     Topic 24  \\\n",
       "0  splat 86.0%     aww 84.0%  popcorn 76.7%   fan 83.6%  blank 74.9%   \n",
       "1   throw 3.5%    throw 2.0%        hi 3.5%  shrug 2.4%    cash 5.4%   \n",
       "2     rip 1.7%  whisper 1.9%    thirst 3.4%  troll 2.0%    want 5.3%   \n",
       "3     lol 1.4%    stars 1.9%        hs 2.8%   bits 1.9%     lol 2.3%   \n",
       "4   blood 1.4%    think 1.2%    hyperr 2.1%  games 1.9%     new 2.1%   \n",
       "\n",
       "       Topic 25     Topic 26        Topic 27       Topic 28         Topic 29  \\\n",
       "0   hyper 68.4%   food 88.1%      rekt 51.4%      lil 76.6%  fortllama 66.1%   \n",
       "1  hyperr 20.8%   blind 2.8%  pogchamp 15.5%      want 2.7%      cheer 18.6%   \n",
       "2     bomb 1.6%    join 2.3%         hs 8.3%  pogchamp 1.9%    pogchamp 3.1%   \n",
       "3    troll 1.3%    cash 1.9%      blood 6.6%      chat 1.6%       blood 1.9%   \n",
       "4   stream 1.1%  twitch 1.5%     splode 4.3%     adore 1.6%    fortbush 1.6%   \n",
       "\n",
       "        Topic 30        Topic 31  \n",
       "0  amazing 80.6%  giveaway 14.8%  \n",
       "1       lol 4.6%      click 8.0%  \n",
       "2    thirst 3.8%         pc 7.5%  \n",
       "3       wow 1.9%       nzxt 6.7%  \n",
       "4       guy 1.8%         hi 6.5%  "
      ]
     },
     "execution_count": 22,
     "metadata": {},
     "output_type": "execute_result"
    }
   ],
   "source": [
    "plot_topic_matrix(pickle_nmf_load,tfidf_feature_names).head()"
   ]
  },
  {
   "cell_type": "code",
   "execution_count": 23,
   "metadata": {
    "ExecuteTime": {
     "end_time": "2018-06-06T02:19:05.051465Z",
     "start_time": "2018-06-06T02:19:05.047718Z"
    },
    "collapsed": true
   },
   "outputs": [],
   "source": [
    "# Analyze a range of topics at a time to get a sence of the data and topics. \n",
    "\n",
    "# for i in range(10,50):\n",
    "#     nmf = NMF(n_components=i, random_state=1, alpha=.1, l1_ratio=.5, init='nndsvd').fit(tfidf_matrix)\n",
    "#     tfidf_matrix.toarray()\n",
    "#     print(i)\n",
    "#     print(np.array(plot_topic_matrix(nmf,tfidf_feature_names).head())[0:2])"
   ]
  },
  {
   "cell_type": "markdown",
   "metadata": {
    "ExecuteTime": {
     "end_time": "2018-05-23T21:40:49.345718Z",
     "start_time": "2018-05-23T21:40:47.052Z"
    }
   },
   "source": [
    "### Join the topics to the actual documents: \n",
    "###### np.argmax very helpful"
   ]
  },
  {
   "cell_type": "code",
   "execution_count": 24,
   "metadata": {
    "ExecuteTime": {
     "end_time": "2018-06-06T02:19:05.095087Z",
     "start_time": "2018-06-06T02:19:05.053483Z"
    },
    "scrolled": true
   },
   "outputs": [
    {
     "data": {
      "text/html": [
       "<div>\n",
       "<style>\n",
       "    .dataframe thead tr:only-child th {\n",
       "        text-align: right;\n",
       "    }\n",
       "\n",
       "    .dataframe thead th {\n",
       "        text-align: left;\n",
       "    }\n",
       "\n",
       "    .dataframe tbody tr th {\n",
       "        vertical-align: top;\n",
       "    }\n",
       "</style>\n",
       "<table border=\"1\" class=\"dataframe\">\n",
       "  <thead>\n",
       "    <tr style=\"text-align: right;\">\n",
       "      <th></th>\n",
       "      <th>0</th>\n",
       "      <th>1</th>\n",
       "      <th>2</th>\n",
       "      <th>3</th>\n",
       "      <th>4</th>\n",
       "      <th>5</th>\n",
       "      <th>6</th>\n",
       "      <th>7</th>\n",
       "      <th>8</th>\n",
       "      <th>9</th>\n",
       "      <th>10</th>\n",
       "      <th>11</th>\n",
       "      <th>12</th>\n",
       "      <th>13</th>\n",
       "      <th>14</th>\n",
       "      <th>15</th>\n",
       "      <th>16</th>\n",
       "      <th>17</th>\n",
       "      <th>18</th>\n",
       "      <th>19</th>\n",
       "      <th>20</th>\n",
       "      <th>21</th>\n",
       "      <th>22</th>\n",
       "      <th>23</th>\n",
       "      <th>24</th>\n",
       "      <th>25</th>\n",
       "      <th>26</th>\n",
       "      <th>27</th>\n",
       "      <th>28</th>\n",
       "      <th>29</th>\n",
       "      <th>30</th>\n",
       "      <th>31</th>\n",
       "      <th>outcome</th>\n",
       "    </tr>\n",
       "  </thead>\n",
       "  <tbody>\n",
       "    <tr>\n",
       "      <th>0</th>\n",
       "      <td>0.004599</td>\n",
       "      <td>0.173495</td>\n",
       "      <td>0.003696</td>\n",
       "      <td>0.0</td>\n",
       "      <td>0.040482</td>\n",
       "      <td>0.0</td>\n",
       "      <td>0.0</td>\n",
       "      <td>0.005661</td>\n",
       "      <td>0.0</td>\n",
       "      <td>0.0</td>\n",
       "      <td>0.013659</td>\n",
       "      <td>0.0</td>\n",
       "      <td>0.0</td>\n",
       "      <td>0.034097</td>\n",
       "      <td>0.0</td>\n",
       "      <td>0.0</td>\n",
       "      <td>0.0</td>\n",
       "      <td>0.030896</td>\n",
       "      <td>0.011179</td>\n",
       "      <td>0.0</td>\n",
       "      <td>0.0</td>\n",
       "      <td>0.0</td>\n",
       "      <td>0.0</td>\n",
       "      <td>0.0</td>\n",
       "      <td>0.056849</td>\n",
       "      <td>0.0</td>\n",
       "      <td>0.0</td>\n",
       "      <td>0.039327</td>\n",
       "      <td>0.0</td>\n",
       "      <td>0.0</td>\n",
       "      <td>0.007139</td>\n",
       "      <td>0.038925</td>\n",
       "      <td>1</td>\n",
       "    </tr>\n",
       "  </tbody>\n",
       "</table>\n",
       "</div>"
      ],
      "text/plain": [
       "          0         1         2    3         4    5    6         7    8    9  \\\n",
       "0  0.004599  0.173495  0.003696  0.0  0.040482  0.0  0.0  0.005661  0.0  0.0   \n",
       "\n",
       "         10   11   12        13   14   15   16        17        18   19   20  \\\n",
       "0  0.013659  0.0  0.0  0.034097  0.0  0.0  0.0  0.030896  0.011179  0.0  0.0   \n",
       "\n",
       "    21   22   23        24   25   26        27   28   29        30        31  \\\n",
       "0  0.0  0.0  0.0  0.056849  0.0  0.0  0.039327  0.0  0.0  0.007139  0.038925   \n",
       "\n",
       "   outcome  \n",
       "0        1  "
      ]
     },
     "execution_count": 24,
     "metadata": {},
     "output_type": "execute_result"
    }
   ],
   "source": [
    "matrix_topics_nmf=pickle_nmf_load.transform(tfidf_matrix)\n",
    "topics_outcome_nmf=[np.argmax(row) for row in matrix_topics_nmf]\n",
    "\n",
    "#cosmetic\n",
    "topics_outcome_df_nmf=pd.DataFrame(topics_outcome_nmf)\n",
    "topics_outcome_df_nmf=topics_outcome_df_nmf.rename(columns={0:'outcome'})\n",
    "\n",
    "#join them (optional)\n",
    "matrix_topics_nmf_df=pd.DataFrame(matrix_topics_nmf)\n",
    "final_nmf=matrix_topics_nmf_df.join(topics_outcome_df_nmf, lsuffix='index',rsuffix='index')\n",
    "final_nmf.head()\n",
    "# final_nmf['index2']=final_nmf.index  # for the plot\n",
    "\n",
    "### Includes the topic probablities and also the outcome. \n",
    "final_nmf.head(1)"
   ]
  },
  {
   "cell_type": "code",
   "execution_count": null,
   "metadata": {
    "collapsed": true
   },
   "outputs": [],
   "source": []
  },
  {
   "cell_type": "markdown",
   "metadata": {},
   "source": [
    "### Use Linear Regression matrix_topics_nmf to validate topics"
   ]
  },
  {
   "cell_type": "code",
   "execution_count": 25,
   "metadata": {
    "ExecuteTime": {
     "end_time": "2018-06-06T02:19:05.103098Z",
     "start_time": "2018-06-06T02:19:05.097721Z"
    },
    "collapsed": true
   },
   "outputs": [],
   "source": [
    "from sklearn.linear_model import LinearRegression\n",
    "from sklearn import pipeline, feature_selection, model_selection, linear_model, preprocessing"
   ]
  },
  {
   "cell_type": "code",
   "execution_count": 26,
   "metadata": {
    "ExecuteTime": {
     "end_time": "2018-06-06T02:19:05.111497Z",
     "start_time": "2018-06-06T02:19:05.105240Z"
    },
    "collapsed": true
   },
   "outputs": [],
   "source": [
    "X=final_nmf.iloc[:,:-1]\n",
    "y=plot_video_comments_v3.number.reset_index().number\n"
   ]
  },
  {
   "cell_type": "code",
   "execution_count": 27,
   "metadata": {
    "ExecuteTime": {
     "end_time": "2018-06-06T02:19:05.119767Z",
     "start_time": "2018-06-06T02:19:05.113656Z"
    },
    "collapsed": true
   },
   "outputs": [],
   "source": [
    "X_train, X_test, y_train, y_test = model_selection.train_test_split(X, y, test_size=0.3)"
   ]
  },
  {
   "cell_type": "code",
   "execution_count": 28,
   "metadata": {
    "ExecuteTime": {
     "end_time": "2018-06-06T02:19:05.152938Z",
     "start_time": "2018-06-06T02:19:05.122301Z"
    }
   },
   "outputs": [
    {
     "data": {
      "text/plain": [
       "0.17153198879223863"
      ]
     },
     "execution_count": 28,
     "metadata": {},
     "output_type": "execute_result"
    }
   ],
   "source": [
    "lr=LinearRegression()\n",
    "lr.fit(X_train,y_train)\n",
    "lr.score(X_test,y_test)"
   ]
  },
  {
   "cell_type": "markdown",
   "metadata": {
    "ExecuteTime": {
     "end_time": "2018-06-05T19:26:50.915478Z",
     "start_time": "2018-06-05T19:26:50.912373Z"
    }
   },
   "source": [
    "##### Plot Coef"
   ]
  },
  {
   "cell_type": "code",
   "execution_count": 29,
   "metadata": {
    "ExecuteTime": {
     "end_time": "2018-06-06T02:19:05.392286Z",
     "start_time": "2018-06-06T02:19:05.155636Z"
    },
    "scrolled": true
   },
   "outputs": [
    {
     "data": {
      "image/png": "[encoded data removed]",
      "text/plain": [
       "<matplotlib.figure.Figure at 0x1c14715c50>"
      ]
     },
     "metadata": {},
     "output_type": "display_data"
    }
   ],
   "source": [
    "analyze_coef(X_train,lr,30)"
   ]
  },
  {
   "cell_type": "code",
   "execution_count": 30,
   "metadata": {
    "ExecuteTime": {
     "end_time": "2018-06-06T02:19:05.509541Z",
     "start_time": "2018-06-06T02:19:05.395244Z"
    }
   },
   "outputs": [
    {
     "data": {
      "text/plain": [
       "0.17167896236518321"
      ]
     },
     "execution_count": 30,
     "metadata": {},
     "output_type": "execute_result"
    }
   ],
   "source": [
    "lr_lasso=linear_model.LassoCV( fit_intercept=True,cv=10)\n",
    "lr_lasso.fit(X_train,y_train)\n",
    "lr_lasso.score(X_test,y_test)"
   ]
  },
  {
   "cell_type": "markdown",
   "metadata": {
    "ExecuteTime": {
     "end_time": "2018-06-05T19:29:37.770824Z",
     "start_time": "2018-06-05T19:29:37.767273Z"
    }
   },
   "source": [
    "###  GLM Poission destribution for Comparesion Since the data is Right Skewed"
   ]
  },
  {
   "cell_type": "code",
   "execution_count": 31,
   "metadata": {
    "ExecuteTime": {
     "end_time": "2018-06-06T02:19:05.518569Z",
     "start_time": "2018-06-06T02:19:05.513833Z"
    },
    "collapsed": true
   },
   "outputs": [],
   "source": [
    "import patsy"
   ]
  },
  {
   "cell_type": "code",
   "execution_count": 32,
   "metadata": {
    "ExecuteTime": {
     "end_time": "2018-06-06T02:19:05.567094Z",
     "start_time": "2018-06-06T02:19:05.522986Z"
    }
   },
   "outputs": [
    {
     "data": {
      "text/html": [
       "<div>\n",
       "<style>\n",
       "    .dataframe thead tr:only-child th {\n",
       "        text-align: right;\n",
       "    }\n",
       "\n",
       "    .dataframe thead th {\n",
       "        text-align: left;\n",
       "    }\n",
       "\n",
       "    .dataframe tbody tr th {\n",
       "        vertical-align: top;\n",
       "    }\n",
       "</style>\n",
       "<table border=\"1\" class=\"dataframe\">\n",
       "  <thead>\n",
       "    <tr style=\"text-align: right;\">\n",
       "      <th></th>\n",
       "      <th>X0</th>\n",
       "      <th>X1</th>\n",
       "      <th>X2</th>\n",
       "      <th>X3</th>\n",
       "      <th>X4</th>\n",
       "      <th>X5</th>\n",
       "      <th>X6</th>\n",
       "      <th>X7</th>\n",
       "      <th>X8</th>\n",
       "      <th>X9</th>\n",
       "      <th>X10</th>\n",
       "      <th>X11</th>\n",
       "      <th>X12</th>\n",
       "      <th>X13</th>\n",
       "      <th>X14</th>\n",
       "      <th>X15</th>\n",
       "      <th>X16</th>\n",
       "      <th>X17</th>\n",
       "      <th>X18</th>\n",
       "      <th>X19</th>\n",
       "      <th>X20</th>\n",
       "      <th>X21</th>\n",
       "      <th>X22</th>\n",
       "      <th>X23</th>\n",
       "      <th>X24</th>\n",
       "      <th>X25</th>\n",
       "      <th>X26</th>\n",
       "      <th>X27</th>\n",
       "      <th>X28</th>\n",
       "      <th>X29</th>\n",
       "      <th>X30</th>\n",
       "      <th>X31</th>\n",
       "      <th>number</th>\n",
       "    </tr>\n",
       "  </thead>\n",
       "  <tbody>\n",
       "    <tr>\n",
       "      <th>0</th>\n",
       "      <td>0.004599</td>\n",
       "      <td>0.173495</td>\n",
       "      <td>0.003696</td>\n",
       "      <td>0.0</td>\n",
       "      <td>0.040482</td>\n",
       "      <td>0.0</td>\n",
       "      <td>0.0</td>\n",
       "      <td>0.005661</td>\n",
       "      <td>0.0</td>\n",
       "      <td>0.000000</td>\n",
       "      <td>0.013659</td>\n",
       "      <td>0.0</td>\n",
       "      <td>0.0</td>\n",
       "      <td>0.034097</td>\n",
       "      <td>0.000000</td>\n",
       "      <td>0.0</td>\n",
       "      <td>0.0</td>\n",
       "      <td>0.030896</td>\n",
       "      <td>0.011179</td>\n",
       "      <td>0.0</td>\n",
       "      <td>0.0</td>\n",
       "      <td>0.000000</td>\n",
       "      <td>0.000000</td>\n",
       "      <td>0.0</td>\n",
       "      <td>0.056849</td>\n",
       "      <td>0.0</td>\n",
       "      <td>0.0</td>\n",
       "      <td>0.039327</td>\n",
       "      <td>0.0</td>\n",
       "      <td>0.0</td>\n",
       "      <td>0.007139</td>\n",
       "      <td>0.038925</td>\n",
       "      <td>132</td>\n",
       "    </tr>\n",
       "    <tr>\n",
       "      <th>1</th>\n",
       "      <td>0.033760</td>\n",
       "      <td>0.000000</td>\n",
       "      <td>0.000000</td>\n",
       "      <td>0.0</td>\n",
       "      <td>0.084492</td>\n",
       "      <td>0.0</td>\n",
       "      <td>0.0</td>\n",
       "      <td>0.000000</td>\n",
       "      <td>0.0</td>\n",
       "      <td>0.000000</td>\n",
       "      <td>0.151715</td>\n",
       "      <td>0.0</td>\n",
       "      <td>0.0</td>\n",
       "      <td>0.000000</td>\n",
       "      <td>0.205587</td>\n",
       "      <td>0.0</td>\n",
       "      <td>0.0</td>\n",
       "      <td>0.000000</td>\n",
       "      <td>0.000000</td>\n",
       "      <td>0.0</td>\n",
       "      <td>0.0</td>\n",
       "      <td>0.000000</td>\n",
       "      <td>0.000000</td>\n",
       "      <td>0.0</td>\n",
       "      <td>0.000000</td>\n",
       "      <td>0.0</td>\n",
       "      <td>0.0</td>\n",
       "      <td>0.000000</td>\n",
       "      <td>0.0</td>\n",
       "      <td>0.0</td>\n",
       "      <td>0.000000</td>\n",
       "      <td>0.008367</td>\n",
       "      <td>51</td>\n",
       "    </tr>\n",
       "    <tr>\n",
       "      <th>2</th>\n",
       "      <td>0.168713</td>\n",
       "      <td>0.000000</td>\n",
       "      <td>0.000000</td>\n",
       "      <td>0.0</td>\n",
       "      <td>0.009017</td>\n",
       "      <td>0.0</td>\n",
       "      <td>0.0</td>\n",
       "      <td>0.000000</td>\n",
       "      <td>0.0</td>\n",
       "      <td>0.000000</td>\n",
       "      <td>0.000000</td>\n",
       "      <td>0.0</td>\n",
       "      <td>0.0</td>\n",
       "      <td>0.000000</td>\n",
       "      <td>0.001610</td>\n",
       "      <td>0.0</td>\n",
       "      <td>0.0</td>\n",
       "      <td>0.000000</td>\n",
       "      <td>0.000000</td>\n",
       "      <td>0.0</td>\n",
       "      <td>0.0</td>\n",
       "      <td>0.007637</td>\n",
       "      <td>0.027633</td>\n",
       "      <td>0.0</td>\n",
       "      <td>0.000000</td>\n",
       "      <td>0.0</td>\n",
       "      <td>0.0</td>\n",
       "      <td>0.007576</td>\n",
       "      <td>0.0</td>\n",
       "      <td>0.0</td>\n",
       "      <td>0.000000</td>\n",
       "      <td>0.000000</td>\n",
       "      <td>71</td>\n",
       "    </tr>\n",
       "    <tr>\n",
       "      <th>3</th>\n",
       "      <td>0.165926</td>\n",
       "      <td>0.008077</td>\n",
       "      <td>0.000000</td>\n",
       "      <td>0.0</td>\n",
       "      <td>0.000000</td>\n",
       "      <td>0.0</td>\n",
       "      <td>0.0</td>\n",
       "      <td>0.045771</td>\n",
       "      <td>0.0</td>\n",
       "      <td>0.009553</td>\n",
       "      <td>0.000000</td>\n",
       "      <td>0.0</td>\n",
       "      <td>0.0</td>\n",
       "      <td>0.000000</td>\n",
       "      <td>0.000000</td>\n",
       "      <td>0.0</td>\n",
       "      <td>0.0</td>\n",
       "      <td>0.021225</td>\n",
       "      <td>0.013834</td>\n",
       "      <td>0.0</td>\n",
       "      <td>0.0</td>\n",
       "      <td>0.000000</td>\n",
       "      <td>0.000000</td>\n",
       "      <td>0.0</td>\n",
       "      <td>0.101856</td>\n",
       "      <td>0.0</td>\n",
       "      <td>0.0</td>\n",
       "      <td>0.000000</td>\n",
       "      <td>0.0</td>\n",
       "      <td>0.0</td>\n",
       "      <td>0.000000</td>\n",
       "      <td>0.011808</td>\n",
       "      <td>91</td>\n",
       "    </tr>\n",
       "    <tr>\n",
       "      <th>4</th>\n",
       "      <td>0.171492</td>\n",
       "      <td>0.000000</td>\n",
       "      <td>0.004559</td>\n",
       "      <td>0.0</td>\n",
       "      <td>0.000000</td>\n",
       "      <td>0.0</td>\n",
       "      <td>0.0</td>\n",
       "      <td>0.000000</td>\n",
       "      <td>0.0</td>\n",
       "      <td>0.007750</td>\n",
       "      <td>0.000000</td>\n",
       "      <td>0.0</td>\n",
       "      <td>0.0</td>\n",
       "      <td>0.000000</td>\n",
       "      <td>0.042983</td>\n",
       "      <td>0.0</td>\n",
       "      <td>0.0</td>\n",
       "      <td>0.009774</td>\n",
       "      <td>0.000000</td>\n",
       "      <td>0.0</td>\n",
       "      <td>0.0</td>\n",
       "      <td>0.020539</td>\n",
       "      <td>0.000000</td>\n",
       "      <td>0.0</td>\n",
       "      <td>0.000000</td>\n",
       "      <td>0.0</td>\n",
       "      <td>0.0</td>\n",
       "      <td>0.000000</td>\n",
       "      <td>0.0</td>\n",
       "      <td>0.0</td>\n",
       "      <td>0.000000</td>\n",
       "      <td>0.002566</td>\n",
       "      <td>83</td>\n",
       "    </tr>\n",
       "  </tbody>\n",
       "</table>\n",
       "</div>"
      ],
      "text/plain": [
       "         X0        X1        X2   X3        X4   X5   X6        X7   X8  \\\n",
       "0  0.004599  0.173495  0.003696  0.0  0.040482  0.0  0.0  0.005661  0.0   \n",
       "1  0.033760  0.000000  0.000000  0.0  0.084492  0.0  0.0  0.000000  0.0   \n",
       "2  0.168713  0.000000  0.000000  0.0  0.009017  0.0  0.0  0.000000  0.0   \n",
       "3  0.165926  0.008077  0.000000  0.0  0.000000  0.0  0.0  0.045771  0.0   \n",
       "4  0.171492  0.000000  0.004559  0.0  0.000000  0.0  0.0  0.000000  0.0   \n",
       "\n",
       "         X9       X10  X11  X12       X13       X14  X15  X16       X17  \\\n",
       "0  0.000000  0.013659  0.0  0.0  0.034097  0.000000  0.0  0.0  0.030896   \n",
       "1  0.000000  0.151715  0.0  0.0  0.000000  0.205587  0.0  0.0  0.000000   \n",
       "2  0.000000  0.000000  0.0  0.0  0.000000  0.001610  0.0  0.0  0.000000   \n",
       "3  0.009553  0.000000  0.0  0.0  0.000000  0.000000  0.0  0.0  0.021225   \n",
       "4  0.007750  0.000000  0.0  0.0  0.000000  0.042983  0.0  0.0  0.009774   \n",
       "\n",
       "        X18  X19  X20       X21       X22  X23       X24  X25  X26       X27  \\\n",
       "0  0.011179  0.0  0.0  0.000000  0.000000  0.0  0.056849  0.0  0.0  0.039327   \n",
       "1  0.000000  0.0  0.0  0.000000  0.000000  0.0  0.000000  0.0  0.0  0.000000   \n",
       "2  0.000000  0.0  0.0  0.007637  0.027633  0.0  0.000000  0.0  0.0  0.007576   \n",
       "3  0.013834  0.0  0.0  0.000000  0.000000  0.0  0.101856  0.0  0.0  0.000000   \n",
       "4  0.000000  0.0  0.0  0.020539  0.000000  0.0  0.000000  0.0  0.0  0.000000   \n",
       "\n",
       "   X28  X29       X30       X31  number  \n",
       "0  0.0  0.0  0.007139  0.038925     132  \n",
       "1  0.0  0.0  0.000000  0.008367      51  \n",
       "2  0.0  0.0  0.000000  0.000000      71  \n",
       "3  0.0  0.0  0.000000  0.011808      91  \n",
       "4  0.0  0.0  0.000000  0.002566      83  "
      ]
     },
     "execution_count": 32,
     "metadata": {},
     "output_type": "execute_result"
    }
   ],
   "source": [
    "## X and y\n",
    "X=final_nmf.iloc[:,:-1]\n",
    "y=plot_video_comments_v3.number.reset_index().number\n",
    "\n",
    "# Patsy does not like int columns so we have to transform them using this model\n",
    "X.columns=[str('X')+str(i) for i in range (32)]\n",
    "\n",
    "piosson_data_set=pd.concat([X,y],axis=1)\n",
    "piosson_data_set.head()"
   ]
  },
  {
   "cell_type": "markdown",
   "metadata": {
    "ExecuteTime": {
     "end_time": "2018-06-05T19:39:51.645745Z",
     "start_time": "2018-06-05T19:39:51.642637Z"
    }
   },
   "source": [
    "##### Prep Data for Modeling"
   ]
  },
  {
   "cell_type": "code",
   "execution_count": 33,
   "metadata": {
    "ExecuteTime": {
     "end_time": "2018-06-06T02:19:05.620957Z",
     "start_time": "2018-06-06T02:19:05.569327Z"
    },
    "collapsed": true
   },
   "outputs": [],
   "source": [
    "Y_p, X_p = patsy.dmatrices(\n",
    "    'number ~ X0+X1+X2+X3+X4+X5+X6+X7+X8+X9+X10+X11+X12+X13+X14+X15+X16+X17+X18+X19+X20+X21+X22+X23+X24+X25+X26+X27+X28+X29+X30+X31',\n",
    "    data=piosson_data_set,\n",
    "    return_type=\"dataframe\")"
   ]
  },
  {
   "cell_type": "markdown",
   "metadata": {},
   "source": [
    "##### Model Data using GLM Models"
   ]
  },
  {
   "cell_type": "code",
   "execution_count": 34,
   "metadata": {
    "ExecuteTime": {
     "end_time": "2018-06-06T02:19:05.668746Z",
     "start_time": "2018-06-06T02:19:05.623839Z"
    }
   },
   "outputs": [
    {
     "name": "stdout",
     "output_type": "stream",
     "text": [
      "                 Generalized Linear Model Regression Results                  \n",
      "==============================================================================\n",
      "Dep. Variable:                 number   No. Observations:                  816\n",
      "Model:                            GLM   Df Residuals:                      783\n",
      "Model Family:                 Poisson   Df Model:                           32\n",
      "Link Function:                    log   Scale:                             1.0\n",
      "Method:                          IRLS   Log-Likelihood:                -10889.\n",
      "Date:                Tue, 05 Jun 2018   Deviance:                       17183.\n",
      "Time:                        22:19:05   Pearson chi2:                 1.98e+04\n",
      "No. Iterations:                     5                                         \n",
      "==============================================================================\n",
      "                 coef    std err          z      P>|z|      [0.025      0.975]\n",
      "------------------------------------------------------------------------------\n",
      "Intercept      3.5574      0.022    160.103      0.000       3.514       3.601\n",
      "X0             5.4240      0.109     49.547      0.000       5.209       5.639\n",
      "X1             0.3589      0.110      3.268      0.001       0.144       0.574\n",
      "X2             1.9229      0.101     19.015      0.000       1.725       2.121\n",
      "X3             0.7612      0.095      7.997      0.000       0.575       0.948\n",
      "X4            -3.1626      0.171    -18.527      0.000      -3.497      -2.828\n",
      "X5             6.6549     17.890      0.372      0.710     -28.409      41.718\n",
      "X6             0.7378      0.112      6.578      0.000       0.518       0.958\n",
      "X7             0.6796      0.108      6.276      0.000       0.467       0.892\n",
      "X8             2.2413      0.092     24.485      0.000       2.062       2.421\n",
      "X9             1.7883      0.104     17.139      0.000       1.584       1.993\n",
      "X10            3.3033      0.096     34.514      0.000       3.116       3.491\n",
      "X11            1.8870      0.099     19.094      0.000       1.693       2.081\n",
      "X12            1.8343      0.094     19.531      0.000       1.650       2.018\n",
      "X13           -1.3545      0.146     -9.255      0.000      -1.641      -1.068\n",
      "X14           -0.8999      0.131     -6.877      0.000      -1.156      -0.643\n",
      "X15            1.3033      0.124     10.538      0.000       1.061       1.546\n",
      "X16           -0.6019      0.134     -4.507      0.000      -0.864      -0.340\n",
      "X17           -0.6819      0.139     -4.899      0.000      -0.955      -0.409\n",
      "X18            1.3899      0.122     11.378      0.000       1.150       1.629\n",
      "X19           -0.5548      0.145     -3.831      0.000      -0.839      -0.271\n",
      "X20            1.4314      0.095     15.080      0.000       1.245       1.617\n",
      "X21            0.2965      0.134      2.215      0.027       0.034       0.559\n",
      "X22           -0.4815      0.133     -3.618      0.000      -0.742      -0.221\n",
      "X23           -0.3634      0.135     -2.684      0.007      -0.629      -0.098\n",
      "X24            1.5045      0.139     10.825      0.000       1.232       1.777\n",
      "X25            0.3864      0.122      3.162      0.002       0.147       0.626\n",
      "X26           -0.2830      0.137     -2.060      0.039      -0.552      -0.014\n",
      "X27            1.5063      0.127     11.905      0.000       1.258       1.754\n",
      "X28            0.6968      0.118      5.924      0.000       0.466       0.927\n",
      "X29            0.2990      0.137      2.187      0.029       0.031       0.567\n",
      "X30            0.5098      0.140      3.642      0.000       0.235       0.784\n",
      "X31           -1.3614      0.149     -9.158      0.000      -1.653      -1.070\n",
      "==============================================================================\n"
     ]
    },
    {
     "data": {
      "text/plain": [
       "statsmodels.genmod.generalized_linear_model.GLMResultsWrapper"
      ]
     },
     "execution_count": 34,
     "metadata": {},
     "output_type": "execute_result"
    }
   ],
   "source": [
    "pois_m=smf.GLM(Y_p,X_p, family=smf.families.Poisson(smf.families.links.log))\n",
    "pois_results=pois_m.fit()\n",
    "print (pois_results.summary())\n",
    "type(pois_results)\n",
    "## These coef needs to be e^coef to see the actual "
   ]
  },
  {
   "cell_type": "code",
   "execution_count": 35,
   "metadata": {
    "ExecuteTime": {
     "end_time": "2018-06-06T02:19:06.125013Z",
     "start_time": "2018-06-06T02:19:05.681892Z"
    }
   },
   "outputs": [
    {
     "data": {
      "image/png": "[encoded data removed]",
      "text/plain": [
       "<matplotlib.figure.Figure at 0x1c146ec080>"
      ]
     },
     "metadata": {},
     "output_type": "display_data"
    }
   ],
   "source": [
    "def analyze_coef2(df_with_cols,model,num_points):\n",
    "    feat = df_with_cols.columns\n",
    "    coef = pois_results.params\n",
    "    sort_i = np.argsort(-np.abs(coef))\n",
    "\n",
    "    plt.figure(figsize=(12,5))\n",
    "    n_plot = num_points\n",
    "    ind = np.arange(n_plot)\n",
    "    plt.scatter(ind, coef[sort_i][:n_plot],c='purple')\n",
    "    plt.xlabel('Features')\n",
    "    plt.xticks(ind, feat[sort_i][:n_plot]);\n",
    "    plt.title(\"GLM Poisson Coef for chosen topics\")\n",
    "    plt.ylabel(\"Coefficients\")\n",
    "    plt.savefig('coef_poisson.jpeg', format='jpeg', dpi=300)\n",
    "\n",
    "analyze_coef2(X_p,pois_results.params,9)"
   ]
  },
  {
   "cell_type": "markdown",
   "metadata": {},
   "source": [
    "### Prove that these Categories are optimal!\n",
    "(Optional - Select Categories as needed) "
   ]
  },
  {
   "cell_type": "code",
   "execution_count": 36,
   "metadata": {
    "ExecuteTime": {
     "end_time": "2018-06-06T02:19:06.167894Z",
     "start_time": "2018-06-06T02:19:06.129504Z"
    },
    "scrolled": true
   },
   "outputs": [
    {
     "name": "stdout",
     "output_type": "stream",
     "text": [
      "92.0 50.33384379785605\n"
     ]
    },
    {
     "name": "stderr",
     "output_type": "stream",
     "text": [
      "/Users/honeybadger4/anaconda3/lib/python3.6/site-packages/ipykernel_launcher.py:15: UserWarning: Boolean Series key will be reindexed to match DataFrame index.\n",
      "  from ipykernel import kernelapp as app\n",
      "/Users/honeybadger4/anaconda3/lib/python3.6/site-packages/ipykernel_launcher.py:16: UserWarning: Boolean Series key will be reindexed to match DataFrame index.\n",
      "  app.launch_new_instance()\n"
     ]
    }
   ],
   "source": [
    "#Validation of created groups.  \n",
    "plot_video_comments_v4 = plot_video_comments_v3.number.reset_index()\n",
    "#Join both Comment frequency in time with  created groups!! Final DF ready to analyze. \n",
    "validate_groups = plot_video_comments_v4.join(final_nmf.outcome)\n",
    "\n",
    "# test to see if chosen categories have higher values then rest of the categories. \n",
    "\n",
    "# categories filtered for selected features.\n",
    "validate_groups_v1 = validate_groups[(validate_groups.outcome == 0)\n",
    "                                     | (validate_groups.outcome == 8)\n",
    "                                     | (validate_groups.outcome == 10)]\n",
    "\n",
    "#Remove Selected features from Initial groups. \n",
    "validate_groups_v2 = validate_groups[(validate_groups.outcome != 0)]\n",
    "validate_groups_v3 = validate_groups_v2[(validate_groups.outcome != 8)]\n",
    "validate_groups_v4 = validate_groups_v3[(validate_groups.outcome != 10)]\n",
    "\n",
    "#Compare Groups ratios based on comments mean!!\n",
    "print((validate_groups_v1.number).mean(), validate_groups_v4.number.mean())\n",
    "\n",
    "\n",
    "#(95.81147540983606, 52.12536023054755) without lamma!! \n",
    "# (85.91428571428571, 51.21528861154446) with lamma!"
   ]
  },
  {
   "cell_type": "code",
   "execution_count": null,
   "metadata": {
    "ExecuteTime": {
     "end_time": "2018-05-29T19:29:25.124957Z",
     "start_time": "2018-05-29T19:29:25.090260Z"
    },
    "collapsed": true
   },
   "outputs": [],
   "source": []
  },
  {
   "cell_type": "markdown",
   "metadata": {
    "ExecuteTime": {
     "end_time": "2018-05-28T15:42:44.296899Z",
     "start_time": "2018-05-28T15:42:44.275877Z"
    }
   },
   "source": [
    "### Scatter plot to see the correlation between selected groups and Actual Video Time"
   ]
  },
  {
   "cell_type": "code",
   "execution_count": 37,
   "metadata": {
    "ExecuteTime": {
     "end_time": "2018-06-06T02:19:07.345910Z",
     "start_time": "2018-06-06T02:19:06.172696Z"
    }
   },
   "outputs": [
    {
     "data": {
      "image/png": "[encoded data removed]",
      "text/plain": [
       "<matplotlib.figure.Figure at 0x1c1428ea58>"
      ]
     },
     "metadata": {},
     "output_type": "display_data"
    }
   ],
   "source": [
    "\n",
    "f, axarr = plt.subplots(2,figsize=(25, 12), sharex=True)\n",
    "f.suptitle('RollingMeanPlot')\n",
    "axarr[0].fill(validate_groups.index,validate_groups.number , c='blue')\n",
    "axarr[1].scatter(validate_groups_v1.index,validate_groups_v1.outcome)\n",
    "axarr[1].set_title('Fourth Plot')\n",
    "axarr[1].set_yticks([0,10,8])\n",
    "\n",
    "#Mark the play\n",
    "axarr[0].axvline(x=200 , color='black');\n",
    "axarr[1].axvline(x=200 , color='black');\n",
    "# axarr[1].axhline(y=3, color=\"red\")\n",
    "axarr[0].set_xlabel('time')\n",
    "plt.savefig('VideoTimeLine.jpeg', format='jpeg', dpi=300)\n",
    "plt.rcParams.update({'font.size': 15})\n",
    "\n",
    "\n",
    "#Number of comments overtime"
   ]
  },
  {
   "cell_type": "markdown",
   "metadata": {},
   "source": [
    "### Unsupervised Learning K-Means Clustering"
   ]
  },
  {
   "cell_type": "code",
   "execution_count": 38,
   "metadata": {
    "ExecuteTime": {
     "end_time": "2018-06-06T02:19:07.398164Z",
     "start_time": "2018-06-06T02:19:07.348743Z"
    },
    "collapsed": true
   },
   "outputs": [],
   "source": [
    "from sklearn.cluster import KMeans"
   ]
  },
  {
   "cell_type": "code",
   "execution_count": 39,
   "metadata": {
    "ExecuteTime": {
     "end_time": "2018-06-06T02:19:07.465324Z",
     "start_time": "2018-06-06T02:19:07.407781Z"
    },
    "collapsed": true
   },
   "outputs": [],
   "source": [
    "model_k=KMeans(4).fit(matrix_topics_nmf)"
   ]
  },
  {
   "cell_type": "code",
   "execution_count": 40,
   "metadata": {
    "ExecuteTime": {
     "end_time": "2018-06-06T02:19:07.474866Z",
     "start_time": "2018-06-06T02:19:07.467768Z"
    }
   },
   "outputs": [
    {
     "data": {
      "text/plain": [
       "array([  1.97930424e-02,   1.93536870e-02,   1.65196170e-01,\n",
       "         1.64363460e-03,   2.24814678e-02,   1.09690013e-05,\n",
       "         7.28351115e-03,   8.28797398e-03,   5.04933534e-03,\n",
       "         5.62633197e-03,   1.14016453e-02,   1.51899876e-02,\n",
       "         1.14608570e-03,   8.83081678e-03,   9.72428005e-03,\n",
       "         1.11836016e-02,   8.45627887e-03,   6.70641225e-03,\n",
       "         8.97255646e-03,   1.71170762e-02,   2.76578879e-03,\n",
       "         6.05104060e-03,   7.46353921e-03,   1.02014221e-02,\n",
       "         5.89200604e-03,   1.00792619e-02,   7.92052418e-03,\n",
       "         5.67440988e-03,   3.89405957e-03,   2.74274543e-02,\n",
       "         4.34115704e-03,   1.59690794e-02])"
      ]
     },
     "execution_count": 40,
     "metadata": {},
     "output_type": "execute_result"
    }
   ],
   "source": [
    "(model_k.cluster_centers_)[0]"
   ]
  },
  {
   "cell_type": "code",
   "execution_count": 41,
   "metadata": {
    "ExecuteTime": {
     "end_time": "2018-06-06T02:19:07.481843Z",
     "start_time": "2018-06-06T02:19:07.476766Z"
    }
   },
   "outputs": [
    {
     "data": {
      "text/plain": [
       "816"
      ]
     },
     "execution_count": 41,
     "metadata": {},
     "output_type": "execute_result"
    }
   ],
   "source": [
    "len(model_k.labels_)"
   ]
  },
  {
   "cell_type": "code",
   "execution_count": 42,
   "metadata": {
    "ExecuteTime": {
     "end_time": "2018-06-06T02:19:48.720888Z",
     "start_time": "2018-06-06T02:19:07.483998Z"
    },
    "collapsed": true
   },
   "outputs": [],
   "source": [
    "distortions = []\n",
    "K = range(1,100)\n",
    "for k in K:\n",
    "    kmeanModel = KMeans(n_clusters=k).fit(matrix_topics_nmf)\n",
    "    kmeanModel.fit(matrix_topics_nmf)\n",
    "    distortions.append(sum(np.min(scipy.spatial.distance.cdist(matrix_topics_nmf, kmeanModel.cluster_centers_, 'euclidean'), axis=1)) / matrix_topics_nmf.shape[0])"
   ]
  },
  {
   "cell_type": "code",
   "execution_count": 43,
   "metadata": {
    "ExecuteTime": {
     "end_time": "2018-06-06T02:19:49.112873Z",
     "start_time": "2018-06-06T02:19:48.723648Z"
    }
   },
   "outputs": [
    {
     "data": {
      "image/png": "[encoded data removed]",
      "text/plain": [
       "<matplotlib.figure.Figure at 0x1c30ef3710>"
      ]
     },
     "metadata": {},
     "output_type": "display_data"
    }
   ],
   "source": [
    "plt.figure(figsize=(20,5))\n",
    "plt.plot(K, distortions, 'bx-', color='blue')\n",
    "plt.xlabel('k')\n",
    "plt.axvline(x=32 , color='purple');\n",
    "plt.ylabel('Distortion')\n",
    "plt.title('K-Means Elbow Method showing optimal k')\n",
    "plt.savefig('kmeans.jpeg', format='jpeg', dpi=300)\n",
    "plt.show()\n"
   ]
  },
  {
   "cell_type": "markdown",
   "metadata": {
    "collapsed": true
   },
   "source": [
    "### word cloud experiment: "
   ]
  },
  {
   "cell_type": "code",
   "execution_count": 44,
   "metadata": {
    "ExecuteTime": {
     "end_time": "2018-06-06T02:19:51.012309Z",
     "start_time": "2018-06-06T02:19:49.115165Z"
    },
    "scrolled": true
   },
   "outputs": [
    {
     "data": {
      "image/png": "[encoded data removed]",
      "text/plain": [
       "<matplotlib.figure.Figure at 0x1c30ed7470>"
      ]
     },
     "metadata": {},
     "output_type": "display_data"
    }
   ],
   "source": [
    "# for i in range(35,40):\n",
    "wordcloud_str(df12.str_comments[2])"
   ]
  },
  {
   "cell_type": "markdown",
   "metadata": {
    "collapsed": true
   },
   "source": [
    "### TSNE Plot"
   ]
  },
  {
   "cell_type": "code",
   "execution_count": 45,
   "metadata": {
    "ExecuteTime": {
     "end_time": "2018-06-06T02:19:51.754144Z",
     "start_time": "2018-06-06T02:19:51.014300Z"
    },
    "collapsed": true
   },
   "outputs": [],
   "source": [
    "from gensim.models.word2vec import Word2Vec\n",
    "from sklearn.manifold import TSNE\n",
    "import re\n",
    "import matplotlib.pyplot as plt\n",
    "from nltk.corpus import stopwords\n",
    "stop = stopwords.words('english')"
   ]
  },
  {
   "cell_type": "code",
   "execution_count": 46,
   "metadata": {
    "ExecuteTime": {
     "end_time": "2018-06-06T02:20:02.674963Z",
     "start_time": "2018-06-06T02:19:51.756780Z"
    },
    "collapsed": true,
    "scrolled": true
   },
   "outputs": [],
   "source": [
    "tsneplot_len=1\n",
    "tsne = TSNE(n_components=2)\n",
    "X_tsne = tsne.fit_transform(topics_outcome_df_nmf)"
   ]
  },
  {
   "cell_type": "code",
   "execution_count": 47,
   "metadata": {
    "ExecuteTime": {
     "end_time": "2018-06-06T02:20:02.694462Z",
     "start_time": "2018-06-06T02:20:02.677686Z"
    },
    "collapsed": true
   },
   "outputs": [],
   "source": [
    "from mpl_toolkits.mplot3d import Axes3D"
   ]
  },
  {
   "cell_type": "code",
   "execution_count": 48,
   "metadata": {
    "ExecuteTime": {
     "end_time": "2018-06-06T02:20:16.786527Z",
     "start_time": "2018-06-06T02:20:02.696545Z"
    }
   },
   "outputs": [
    {
     "data": {
      "image/png": "[encoded data removed]",
      "text/plain": [
       "<matplotlib.figure.Figure at 0x1c23d6d0f0>"
      ]
     },
     "metadata": {},
     "output_type": "display_data"
    }
   ],
   "source": [
    "def plot_PCA_3D(data):\n",
    "    fig = plt.figure(figsize=(10,10))\n",
    "    ax = fig.add_subplot(111, projection='3d')\n",
    "#     ax = fig.gca(projection='3d')\n",
    "    \n",
    "    tsne = TSNE(n_components=3,metric=\"euclidean\")\n",
    "    X_tsne = tsne.fit_transform(data)\n",
    "\n",
    "\n",
    "    ax.scatter(X_tsne[:, 0], X_tsne[:, 1],X_tsne[:, 2],c=topics_outcome_nmf  , cmap=plt.cm.get_cmap('PRGn', 20) )\n",
    "    \n",
    "    ax.set_xlabel('1st principle component')\n",
    "    ax.set_ylabel('2nd principle component')\n",
    "    ax.set_zlabel('3rd principle component')\n",
    "    plt.savefig('3D Plot.jpeg', format='jpeg', dpi=300)\n",
    "    plt.legend()\n",
    "    \n",
    "plot_PCA_3D(topics_outcome_df_nmf)"
   ]
  },
  {
   "cell_type": "code",
   "execution_count": 49,
   "metadata": {
    "ExecuteTime": {
     "end_time": "2018-06-06T02:20:16.792063Z",
     "start_time": "2018-06-06T02:20:16.788228Z"
    },
    "collapsed": true
   },
   "outputs": [],
   "source": [
    "# 2D TSNE Plot, code not used\n",
    "\n",
    "# plt.figure(figsize=(10,10))\n",
    "# plt.scatter(X_tsne[:, 0], X_tsne[:, 1],c=topics_outcome_nmf  , cmap=plt.cm.get_cmap('tab20_r', 20) )\n",
    "# for a,b,i in zip(X_tsne[:, 0], X_tsne[:, 1],range(len(top_words))): \n",
    "#     plt.text(a,b,str(top_words[i])) "
   ]
  },
  {
   "cell_type": "markdown",
   "metadata": {
    "ExecuteTime": {
     "end_time": "2018-06-05T19:48:17.115441Z",
     "start_time": "2018-06-05T19:48:17.112393Z"
    }
   },
   "source": [
    "#### 2D TSNE Plot, with Labels: \n",
    "-not useful, good code for future projects."
   ]
  },
  {
   "cell_type": "code",
   "execution_count": 50,
   "metadata": {
    "ExecuteTime": {
     "end_time": "2018-06-06T02:20:16.804516Z",
     "start_time": "2018-06-06T02:20:16.794526Z"
    },
    "collapsed": true
   },
   "outputs": [],
   "source": [
    "# from matplotlib import patches\n",
    "# new_values = TSNE(metric='cosine',perplexity=40, n_components=2, n_iter=250).fit_transform(matrix_topics_nmf)\n",
    "# x = []\n",
    "# y = []\n",
    "# labels = []\n",
    "\n",
    "# num_topics = len(matrix_topics_nmf[0])\n",
    "# for value in new_values:\n",
    "#     x.append(value[0])\n",
    "#     y.append(value[1])\n",
    "# topics=[i for i in range(32)]\n",
    "# cmap = plt.cm.get_cmap('nipy_spectral')\n",
    "# cmapScale = int(cmap.N / num_topics)\n",
    "# plt.figure(figsize=(30, 30),facecolor='white')\n",
    "# labels = [] \n",
    "# for i in range(len(x)):\n",
    "#     label = np.argmax(matrix_topics_nmf[i])\n",
    "#     labels.append(label)\n",
    "#     plt.scatter(x[i],y[i], c=cmap(label*cmapScale),s=100)\n",
    "\n",
    "# color_legend = []\n",
    "# for i in range(num_topics):\n",
    "#     boolArr = np.array(labels) == i\n",
    "#     x_avg = np.median(np.array(x)[boolArr])\n",
    "#     y_avg = np.median(np.array(y)[boolArr])\n",
    "#     plt.annotate(topics[i],\n",
    "#                  xy=(x_avg, y_avg),\n",
    "#                  xytext=(5, 2),\n",
    "#                  textcoords='offset points',\n",
    "#                  ha='center',\n",
    "#                  va='center',\n",
    "#                  fontsize=25,\n",
    "#                  bbox=dict(boxstyle=\"round\", fc=\"whitesmoke\",alpha=0.7))\n",
    "#     color_legend.append(patches.Patch(color=cmap(i*cmapScale), label=f'Topic #{i+1}: {topics[i]}'))\n",
    "# # plt.legend(handles=color_legend,fontsize=18)\n",
    "# # plt.axis('off')\n",
    "# plt.ylim(.1,-.1)\n",
    "# plt.xlim(.1,-.1)\n",
    "# plt.show()"
   ]
  },
  {
   "cell_type": "code",
   "execution_count": null,
   "metadata": {
    "collapsed": true
   },
   "outputs": [],
   "source": []
  },
  {
   "cell_type": "code",
   "execution_count": null,
   "metadata": {
    "collapsed": true
   },
   "outputs": [],
   "source": []
  },
  {
   "cell_type": "code",
   "execution_count": null,
   "metadata": {
    "collapsed": true
   },
   "outputs": [],
   "source": []
  },
  {
   "cell_type": "code",
   "execution_count": null,
   "metadata": {
    "collapsed": true
   },
   "outputs": [],
   "source": []
  },
  {
   "cell_type": "code",
   "execution_count": null,
   "metadata": {
    "collapsed": true
   },
   "outputs": [],
   "source": []
  }
 ],
 "metadata": {
  "kernelspec": {
   "display_name": "Python 3",
   "language": "python",
   "name": "python3"
  },
  "language_info": {
   "codemirror_mode": {
    "name": "ipython",
    "version": 3
   },
   "file_extension": ".py",
   "mimetype": "text/x-python",
   "name": "python",
   "nbconvert_exporter": "python",
   "pygments_lexer": "ipython3",
   "version": "3.6.3"
  },
  "varInspector": {
   "cols": {
    "lenName": 16,
    "lenType": 16,
    "lenVar": 40
   },
   "kernels_config": {
    "python": {
     "delete_cmd_postfix": "",
     "delete_cmd_prefix": "del ",
     "library": "var_list.py",
     "varRefreshCmd": "print(var_dic_list())"
    },
    "r": {
     "delete_cmd_postfix": ") ",
     "delete_cmd_prefix": "rm(",
     "library": "var_list.r",
     "varRefreshCmd": "cat(var_dic_list()) "
    }
   },
   "types_to_exclude": [
    "module",
    "function",
    "builtin_function_or_method",
    "instance",
    "_Feature"
   ],
   "window_display": false
  }
 },
 "nbformat": 4,
 "nbformat_minor": 2
}
